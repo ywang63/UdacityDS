{
 "cells": [
  {
   "cell_type": "code",
   "execution_count": 527,
   "metadata": {},
   "outputs": [
    {
     "data": {
      "text/html": [
       "<div>\n",
       "<style scoped>\n",
       "    .dataframe tbody tr th:only-of-type {\n",
       "        vertical-align: middle;\n",
       "    }\n",
       "\n",
       "    .dataframe tbody tr th {\n",
       "        vertical-align: top;\n",
       "    }\n",
       "\n",
       "    .dataframe thead th {\n",
       "        text-align: right;\n",
       "    }\n",
       "</style>\n",
       "<table border=\"1\" class=\"dataframe\">\n",
       "  <thead>\n",
       "    <tr style=\"text-align: right;\">\n",
       "      <th></th>\n",
       "      <th>Respondent</th>\n",
       "      <th>MainBranch</th>\n",
       "      <th>Hobbyist</th>\n",
       "      <th>Age</th>\n",
       "      <th>Age1stCode</th>\n",
       "      <th>CompFreq</th>\n",
       "      <th>CompTotal</th>\n",
       "      <th>ConvertedComp</th>\n",
       "      <th>Country</th>\n",
       "      <th>CurrencyDesc</th>\n",
       "      <th>...</th>\n",
       "      <th>SurveyEase</th>\n",
       "      <th>SurveyLength</th>\n",
       "      <th>Trans</th>\n",
       "      <th>UndergradMajor</th>\n",
       "      <th>WebframeDesireNextYear</th>\n",
       "      <th>WebframeWorkedWith</th>\n",
       "      <th>WelcomeChange</th>\n",
       "      <th>WorkWeekHrs</th>\n",
       "      <th>YearsCode</th>\n",
       "      <th>YearsCodePro</th>\n",
       "    </tr>\n",
       "  </thead>\n",
       "  <tbody>\n",
       "    <tr>\n",
       "      <th>0</th>\n",
       "      <td>1</td>\n",
       "      <td>I am a developer by profession</td>\n",
       "      <td>Yes</td>\n",
       "      <td>NaN</td>\n",
       "      <td>13</td>\n",
       "      <td>Monthly</td>\n",
       "      <td>NaN</td>\n",
       "      <td>NaN</td>\n",
       "      <td>Germany</td>\n",
       "      <td>European Euro</td>\n",
       "      <td>...</td>\n",
       "      <td>Neither easy nor difficult</td>\n",
       "      <td>Appropriate in length</td>\n",
       "      <td>No</td>\n",
       "      <td>Computer science, computer engineering, or sof...</td>\n",
       "      <td>ASP.NET Core</td>\n",
       "      <td>ASP.NET;ASP.NET Core</td>\n",
       "      <td>Just as welcome now as I felt last year</td>\n",
       "      <td>50.0</td>\n",
       "      <td>36</td>\n",
       "      <td>27</td>\n",
       "    </tr>\n",
       "    <tr>\n",
       "      <th>1</th>\n",
       "      <td>2</td>\n",
       "      <td>I am a developer by profession</td>\n",
       "      <td>No</td>\n",
       "      <td>NaN</td>\n",
       "      <td>19</td>\n",
       "      <td>NaN</td>\n",
       "      <td>NaN</td>\n",
       "      <td>NaN</td>\n",
       "      <td>United Kingdom</td>\n",
       "      <td>Pound sterling</td>\n",
       "      <td>...</td>\n",
       "      <td>NaN</td>\n",
       "      <td>NaN</td>\n",
       "      <td>NaN</td>\n",
       "      <td>Computer science, computer engineering, or sof...</td>\n",
       "      <td>NaN</td>\n",
       "      <td>NaN</td>\n",
       "      <td>Somewhat more welcome now than last year</td>\n",
       "      <td>NaN</td>\n",
       "      <td>7</td>\n",
       "      <td>4</td>\n",
       "    </tr>\n",
       "    <tr>\n",
       "      <th>2</th>\n",
       "      <td>3</td>\n",
       "      <td>I code primarily as a hobby</td>\n",
       "      <td>Yes</td>\n",
       "      <td>NaN</td>\n",
       "      <td>15</td>\n",
       "      <td>NaN</td>\n",
       "      <td>NaN</td>\n",
       "      <td>NaN</td>\n",
       "      <td>Russian Federation</td>\n",
       "      <td>NaN</td>\n",
       "      <td>...</td>\n",
       "      <td>Neither easy nor difficult</td>\n",
       "      <td>Appropriate in length</td>\n",
       "      <td>NaN</td>\n",
       "      <td>NaN</td>\n",
       "      <td>NaN</td>\n",
       "      <td>NaN</td>\n",
       "      <td>Somewhat more welcome now than last year</td>\n",
       "      <td>NaN</td>\n",
       "      <td>4</td>\n",
       "      <td>NaN</td>\n",
       "    </tr>\n",
       "    <tr>\n",
       "      <th>3</th>\n",
       "      <td>4</td>\n",
       "      <td>I am a developer by profession</td>\n",
       "      <td>Yes</td>\n",
       "      <td>25.0</td>\n",
       "      <td>18</td>\n",
       "      <td>NaN</td>\n",
       "      <td>NaN</td>\n",
       "      <td>NaN</td>\n",
       "      <td>Albania</td>\n",
       "      <td>Albanian lek</td>\n",
       "      <td>...</td>\n",
       "      <td>NaN</td>\n",
       "      <td>NaN</td>\n",
       "      <td>No</td>\n",
       "      <td>Computer science, computer engineering, or sof...</td>\n",
       "      <td>NaN</td>\n",
       "      <td>NaN</td>\n",
       "      <td>Somewhat less welcome now than last year</td>\n",
       "      <td>40.0</td>\n",
       "      <td>7</td>\n",
       "      <td>4</td>\n",
       "    </tr>\n",
       "    <tr>\n",
       "      <th>4</th>\n",
       "      <td>5</td>\n",
       "      <td>I used to be a developer by profession, but no...</td>\n",
       "      <td>Yes</td>\n",
       "      <td>31.0</td>\n",
       "      <td>16</td>\n",
       "      <td>NaN</td>\n",
       "      <td>NaN</td>\n",
       "      <td>NaN</td>\n",
       "      <td>United States</td>\n",
       "      <td>NaN</td>\n",
       "      <td>...</td>\n",
       "      <td>Easy</td>\n",
       "      <td>Too short</td>\n",
       "      <td>No</td>\n",
       "      <td>Computer science, computer engineering, or sof...</td>\n",
       "      <td>Django;Ruby on Rails</td>\n",
       "      <td>Ruby on Rails</td>\n",
       "      <td>Just as welcome now as I felt last year</td>\n",
       "      <td>NaN</td>\n",
       "      <td>15</td>\n",
       "      <td>8</td>\n",
       "    </tr>\n",
       "  </tbody>\n",
       "</table>\n",
       "<p>5 rows × 61 columns</p>\n",
       "</div>"
      ],
      "text/plain": [
       "   Respondent                                         MainBranch Hobbyist  \\\n",
       "0           1                     I am a developer by profession      Yes   \n",
       "1           2                     I am a developer by profession       No   \n",
       "2           3                        I code primarily as a hobby      Yes   \n",
       "3           4                     I am a developer by profession      Yes   \n",
       "4           5  I used to be a developer by profession, but no...      Yes   \n",
       "\n",
       "    Age Age1stCode CompFreq  CompTotal  ConvertedComp             Country  \\\n",
       "0   NaN         13  Monthly        NaN            NaN             Germany   \n",
       "1   NaN         19      NaN        NaN            NaN      United Kingdom   \n",
       "2   NaN         15      NaN        NaN            NaN  Russian Federation   \n",
       "3  25.0         18      NaN        NaN            NaN             Albania   \n",
       "4  31.0         16      NaN        NaN            NaN       United States   \n",
       "\n",
       "     CurrencyDesc  ...                  SurveyEase           SurveyLength  \\\n",
       "0   European Euro  ...  Neither easy nor difficult  Appropriate in length   \n",
       "1  Pound sterling  ...                         NaN                    NaN   \n",
       "2             NaN  ...  Neither easy nor difficult  Appropriate in length   \n",
       "3    Albanian lek  ...                         NaN                    NaN   \n",
       "4             NaN  ...                        Easy              Too short   \n",
       "\n",
       "  Trans                                     UndergradMajor  \\\n",
       "0    No  Computer science, computer engineering, or sof...   \n",
       "1   NaN  Computer science, computer engineering, or sof...   \n",
       "2   NaN                                                NaN   \n",
       "3    No  Computer science, computer engineering, or sof...   \n",
       "4    No  Computer science, computer engineering, or sof...   \n",
       "\n",
       "  WebframeDesireNextYear    WebframeWorkedWith  \\\n",
       "0           ASP.NET Core  ASP.NET;ASP.NET Core   \n",
       "1                    NaN                   NaN   \n",
       "2                    NaN                   NaN   \n",
       "3                    NaN                   NaN   \n",
       "4   Django;Ruby on Rails         Ruby on Rails   \n",
       "\n",
       "                              WelcomeChange WorkWeekHrs YearsCode YearsCodePro  \n",
       "0   Just as welcome now as I felt last year        50.0        36           27  \n",
       "1  Somewhat more welcome now than last year         NaN         7            4  \n",
       "2  Somewhat more welcome now than last year         NaN         4          NaN  \n",
       "3  Somewhat less welcome now than last year        40.0         7            4  \n",
       "4   Just as welcome now as I felt last year         NaN        15            8  \n",
       "\n",
       "[5 rows x 61 columns]"
      ]
     },
     "execution_count": 527,
     "metadata": {},
     "output_type": "execute_result"
    }
   ],
   "source": [
    "import numpy as np\n",
    "import pandas as pd\n",
    "import matplotlib.pyplot as plt\n",
    "from IPython import display\n",
    "%matplotlib inline\n",
    "\n",
    "df = pd.read_csv('./survey_results_public.csv')\n",
    "df.head()"
   ]
  },
  {
   "cell_type": "markdown",
   "metadata": {},
   "source": [
    "## Data Understanding"
   ]
  },
  {
   "cell_type": "code",
   "execution_count": 528,
   "metadata": {},
   "outputs": [
    {
     "data": {
      "text/plain": [
       "(64461, 61)"
      ]
     },
     "execution_count": 528,
     "metadata": {},
     "output_type": "execute_result"
    }
   ],
   "source": [
    "df.shape"
   ]
  },
  {
   "cell_type": "code",
   "execution_count": 529,
   "metadata": {},
   "outputs": [
    {
     "data": {
      "text/plain": [
       "<AxesSubplot:>"
      ]
     },
     "execution_count": 529,
     "metadata": {},
     "output_type": "execute_result"
    },
    {
     "data": {
      "image/png": "[encoded data removed]",
      "text/plain": [
       "<Figure size 1080x576 with 1 Axes>"
      ]
     },
     "metadata": {
      "needs_background": "light"
     },
     "output_type": "display_data"
    }
   ],
   "source": [
    "#check missling value ratio per column\n",
    "df.isnull().mean().plot(kind='bar',figsize=(15, 8),fontsize=13)"
   ]
  },
  {
   "cell_type": "markdown",
   "metadata": {},
   "source": [
    "As I also did practice data analysis using 2017 survey data before, in comparison, 2020 survey data greatly improved in terms of data quality -- fewer missing value is found in each column this year."
   ]
  },
  {
   "cell_type": "code",
   "execution_count": 530,
   "metadata": {},
   "outputs": [
    {
     "data": {
      "text/plain": [
       "Index(['CompTotal', 'ConvertedComp'], dtype='object')"
      ]
     },
     "execution_count": 530,
     "metadata": {},
     "output_type": "execute_result"
    }
   ],
   "source": [
    "#check columns with most missing values, benchmark set at 45%\n",
    "most_m_columns = df.columns[df.isnull().mean()>0.45]\n",
    "most_m_columns"
   ]
  },
  {
   "cell_type": "markdown",
   "metadata": {},
   "source": [
    "The highest missing data columns are related to compensation, which is understandble as it is a privacy matter. As no significant missing values are found in any columns. No specific processing is needed."
   ]
  },
  {
   "cell_type": "code",
   "execution_count": 531,
   "metadata": {},
   "outputs": [
    {
     "data": {
      "text/plain": [
       "Index(['Respondent', 'MainBranch', 'Hobbyist', 'Age', 'Age1stCode', 'CompFreq',\n",
       "       'CompTotal', 'ConvertedComp', 'Country', 'CurrencyDesc',\n",
       "       'CurrencySymbol', 'DatabaseDesireNextYear', 'DatabaseWorkedWith',\n",
       "       'DevType', 'EdLevel', 'Employment', 'Ethnicity', 'Gender', 'JobFactors',\n",
       "       'JobSat', 'JobSeek', 'LanguageDesireNextYear', 'LanguageWorkedWith',\n",
       "       'MiscTechDesireNextYear', 'MiscTechWorkedWith',\n",
       "       'NEWCollabToolsDesireNextYear', 'NEWCollabToolsWorkedWith', 'NEWDevOps',\n",
       "       'NEWDevOpsImpt', 'NEWEdImpt', 'NEWJobHunt', 'NEWJobHuntResearch',\n",
       "       'NEWLearn', 'NEWOffTopic', 'NEWOnboardGood', 'NEWOtherComms',\n",
       "       'NEWOvertime', 'NEWPurchaseResearch', 'NEWPurpleLink', 'NEWSOSites',\n",
       "       'NEWStuck', 'OpSys', 'OrgSize', 'PlatformDesireNextYear',\n",
       "       'PlatformWorkedWith', 'PurchaseWhat', 'Sexuality', 'SOAccount',\n",
       "       'SOComm', 'SOPartFreq', 'SOVisitFreq', 'SurveyEase', 'SurveyLength',\n",
       "       'Trans', 'UndergradMajor', 'WebframeDesireNextYear',\n",
       "       'WebframeWorkedWith', 'WelcomeChange', 'WorkWeekHrs', 'YearsCode',\n",
       "       'YearsCodePro'],\n",
       "      dtype='object')"
      ]
     },
     "execution_count": 531,
     "metadata": {},
     "output_type": "execute_result"
    }
   ],
   "source": [
    "df.columns"
   ]
  },
  {
   "cell_type": "code",
   "execution_count": 532,
   "metadata": {},
   "outputs": [
    {
     "data": {
      "text/html": [
       "<div>\n",
       "<style scoped>\n",
       "    .dataframe tbody tr th:only-of-type {\n",
       "        vertical-align: middle;\n",
       "    }\n",
       "\n",
       "    .dataframe tbody tr th {\n",
       "        vertical-align: top;\n",
       "    }\n",
       "\n",
       "    .dataframe thead th {\n",
       "        text-align: right;\n",
       "    }\n",
       "</style>\n",
       "<table border=\"1\" class=\"dataframe\">\n",
       "  <thead>\n",
       "    <tr style=\"text-align: right;\">\n",
       "      <th></th>\n",
       "      <th>Column</th>\n",
       "      <th>QuestionText</th>\n",
       "    </tr>\n",
       "  </thead>\n",
       "  <tbody>\n",
       "    <tr>\n",
       "      <th>0</th>\n",
       "      <td>Respondent</td>\n",
       "      <td>Randomized respondent ID number (not in order ...</td>\n",
       "    </tr>\n",
       "    <tr>\n",
       "      <th>1</th>\n",
       "      <td>MainBranch</td>\n",
       "      <td>Which of the following options best describes ...</td>\n",
       "    </tr>\n",
       "    <tr>\n",
       "      <th>2</th>\n",
       "      <td>Hobbyist</td>\n",
       "      <td>Do you code as a hobby?</td>\n",
       "    </tr>\n",
       "    <tr>\n",
       "      <th>3</th>\n",
       "      <td>Age</td>\n",
       "      <td>What is your age (in years)? If you prefer not...</td>\n",
       "    </tr>\n",
       "    <tr>\n",
       "      <th>4</th>\n",
       "      <td>Age1stCode</td>\n",
       "      <td>At what age did you write your first line of c...</td>\n",
       "    </tr>\n",
       "    <tr>\n",
       "      <th>5</th>\n",
       "      <td>CompFreq</td>\n",
       "      <td>Is that compensation weekly, monthly, or yearly?</td>\n",
       "    </tr>\n",
       "    <tr>\n",
       "      <th>6</th>\n",
       "      <td>CompTotal</td>\n",
       "      <td>What is your current total compensation (salar...</td>\n",
       "    </tr>\n",
       "    <tr>\n",
       "      <th>7</th>\n",
       "      <td>ConvertedComp</td>\n",
       "      <td>Salary converted to annual USD salaries using ...</td>\n",
       "    </tr>\n",
       "    <tr>\n",
       "      <th>8</th>\n",
       "      <td>Country</td>\n",
       "      <td>Where do you live?</td>\n",
       "    </tr>\n",
       "    <tr>\n",
       "      <th>9</th>\n",
       "      <td>CurrencyDesc</td>\n",
       "      <td>Which currency do you use day-to-day? If your ...</td>\n",
       "    </tr>\n",
       "    <tr>\n",
       "      <th>10</th>\n",
       "      <td>CurrencySymbol</td>\n",
       "      <td>Which currency do you use day-to-day? If your ...</td>\n",
       "    </tr>\n",
       "    <tr>\n",
       "      <th>11</th>\n",
       "      <td>DatabaseDesireNextYear</td>\n",
       "      <td>Which database environments have you done exte...</td>\n",
       "    </tr>\n",
       "    <tr>\n",
       "      <th>12</th>\n",
       "      <td>DatabaseWorkedWith</td>\n",
       "      <td>Which database environments have you done exte...</td>\n",
       "    </tr>\n",
       "    <tr>\n",
       "      <th>13</th>\n",
       "      <td>DevType</td>\n",
       "      <td>Which of the following describe you? Please se...</td>\n",
       "    </tr>\n",
       "    <tr>\n",
       "      <th>14</th>\n",
       "      <td>EdLevel</td>\n",
       "      <td>Which of the following best describes the high...</td>\n",
       "    </tr>\n",
       "    <tr>\n",
       "      <th>15</th>\n",
       "      <td>Employment</td>\n",
       "      <td>Which of the following best describes your cur...</td>\n",
       "    </tr>\n",
       "    <tr>\n",
       "      <th>16</th>\n",
       "      <td>Ethnicity</td>\n",
       "      <td>Which of the following describe you, if any? P...</td>\n",
       "    </tr>\n",
       "    <tr>\n",
       "      <th>17</th>\n",
       "      <td>Gender</td>\n",
       "      <td>Which of the following describe you, if any? P...</td>\n",
       "    </tr>\n",
       "    <tr>\n",
       "      <th>18</th>\n",
       "      <td>JobFactors</td>\n",
       "      <td>Imagine that you are deciding between two job ...</td>\n",
       "    </tr>\n",
       "    <tr>\n",
       "      <th>19</th>\n",
       "      <td>JobSat</td>\n",
       "      <td>How satisfied are you with your current job? (...</td>\n",
       "    </tr>\n",
       "    <tr>\n",
       "      <th>20</th>\n",
       "      <td>JobSeek</td>\n",
       "      <td>Which of the following best describes your cur...</td>\n",
       "    </tr>\n",
       "    <tr>\n",
       "      <th>21</th>\n",
       "      <td>LanguageDesireNextYear</td>\n",
       "      <td>Which programming, scripting, and markup langu...</td>\n",
       "    </tr>\n",
       "    <tr>\n",
       "      <th>22</th>\n",
       "      <td>LanguageWorkedWith</td>\n",
       "      <td>Which programming, scripting, and markup langu...</td>\n",
       "    </tr>\n",
       "    <tr>\n",
       "      <th>23</th>\n",
       "      <td>MiscTechDesireNextYear</td>\n",
       "      <td>Which other frameworks, libraries, and tools h...</td>\n",
       "    </tr>\n",
       "    <tr>\n",
       "      <th>24</th>\n",
       "      <td>MiscTechWorkedWith</td>\n",
       "      <td>Which other frameworks, libraries, and tools h...</td>\n",
       "    </tr>\n",
       "    <tr>\n",
       "      <th>25</th>\n",
       "      <td>NEWCollabToolsDesireNextYear</td>\n",
       "      <td>Which collaboration tools have you done extens...</td>\n",
       "    </tr>\n",
       "    <tr>\n",
       "      <th>26</th>\n",
       "      <td>NEWCollabToolsWorkedWith</td>\n",
       "      <td>Which collaboration tools have you done extens...</td>\n",
       "    </tr>\n",
       "    <tr>\n",
       "      <th>27</th>\n",
       "      <td>NEWDevOps</td>\n",
       "      <td>Does your company have a dedicated DevOps person?</td>\n",
       "    </tr>\n",
       "    <tr>\n",
       "      <th>28</th>\n",
       "      <td>NEWDevOpsImpt</td>\n",
       "      <td>How important is the practice of DevOps to sca...</td>\n",
       "    </tr>\n",
       "    <tr>\n",
       "      <th>29</th>\n",
       "      <td>NEWEdImpt</td>\n",
       "      <td>How important is a formal education, such as a...</td>\n",
       "    </tr>\n",
       "  </tbody>\n",
       "</table>\n",
       "</div>"
      ],
      "text/plain": [
       "                          Column  \\\n",
       "0                     Respondent   \n",
       "1                     MainBranch   \n",
       "2                       Hobbyist   \n",
       "3                            Age   \n",
       "4                     Age1stCode   \n",
       "5                       CompFreq   \n",
       "6                      CompTotal   \n",
       "7                  ConvertedComp   \n",
       "8                        Country   \n",
       "9                   CurrencyDesc   \n",
       "10                CurrencySymbol   \n",
       "11        DatabaseDesireNextYear   \n",
       "12            DatabaseWorkedWith   \n",
       "13                       DevType   \n",
       "14                       EdLevel   \n",
       "15                    Employment   \n",
       "16                     Ethnicity   \n",
       "17                        Gender   \n",
       "18                    JobFactors   \n",
       "19                        JobSat   \n",
       "20                       JobSeek   \n",
       "21        LanguageDesireNextYear   \n",
       "22            LanguageWorkedWith   \n",
       "23        MiscTechDesireNextYear   \n",
       "24            MiscTechWorkedWith   \n",
       "25  NEWCollabToolsDesireNextYear   \n",
       "26      NEWCollabToolsWorkedWith   \n",
       "27                     NEWDevOps   \n",
       "28                 NEWDevOpsImpt   \n",
       "29                     NEWEdImpt   \n",
       "\n",
       "                                         QuestionText  \n",
       "0   Randomized respondent ID number (not in order ...  \n",
       "1   Which of the following options best describes ...  \n",
       "2                             Do you code as a hobby?  \n",
       "3   What is your age (in years)? If you prefer not...  \n",
       "4   At what age did you write your first line of c...  \n",
       "5    Is that compensation weekly, monthly, or yearly?  \n",
       "6   What is your current total compensation (salar...  \n",
       "7   Salary converted to annual USD salaries using ...  \n",
       "8                                  Where do you live?  \n",
       "9   Which currency do you use day-to-day? If your ...  \n",
       "10  Which currency do you use day-to-day? If your ...  \n",
       "11  Which database environments have you done exte...  \n",
       "12  Which database environments have you done exte...  \n",
       "13  Which of the following describe you? Please se...  \n",
       "14  Which of the following best describes the high...  \n",
       "15  Which of the following best describes your cur...  \n",
       "16  Which of the following describe you, if any? P...  \n",
       "17  Which of the following describe you, if any? P...  \n",
       "18  Imagine that you are deciding between two job ...  \n",
       "19  How satisfied are you with your current job? (...  \n",
       "20  Which of the following best describes your cur...  \n",
       "21  Which programming, scripting, and markup langu...  \n",
       "22  Which programming, scripting, and markup langu...  \n",
       "23  Which other frameworks, libraries, and tools h...  \n",
       "24  Which other frameworks, libraries, and tools h...  \n",
       "25  Which collaboration tools have you done extens...  \n",
       "26  Which collaboration tools have you done extens...  \n",
       "27  Does your company have a dedicated DevOps person?  \n",
       "28  How important is the practice of DevOps to sca...  \n",
       "29  How important is a formal education, such as a...  "
      ]
     },
     "execution_count": 532,
     "metadata": {},
     "output_type": "execute_result"
    }
   ],
   "source": [
    "#The shcema is long but I am only showing first 30 rows here as illustration.\n",
    "schema = pd.read_csv('./survey_results_schema.csv')\n",
    "schema.head(30)"
   ]
  },
  {
   "cell_type": "markdown",
   "metadata": {},
   "source": [
    "I am interested in the age data in this survey as I personally think it is a job for young to mid-year professionals. Let's check. But first, let me clean the some age data. "
   ]
  },
  {
   "cell_type": "markdown",
   "metadata": {},
   "source": [
    "## Data Processing"
   ]
  },
  {
   "cell_type": "code",
   "execution_count": 533,
   "metadata": {},
   "outputs": [
    {
     "data": {
      "text/html": [
       "<div>\n",
       "<style scoped>\n",
       "    .dataframe tbody tr th:only-of-type {\n",
       "        vertical-align: middle;\n",
       "    }\n",
       "\n",
       "    .dataframe tbody tr th {\n",
       "        vertical-align: top;\n",
       "    }\n",
       "\n",
       "    .dataframe thead th {\n",
       "        text-align: right;\n",
       "    }\n",
       "</style>\n",
       "<table border=\"1\" class=\"dataframe\">\n",
       "  <thead>\n",
       "    <tr style=\"text-align: right;\">\n",
       "      <th></th>\n",
       "      <th>Age</th>\n",
       "      <th>Age1stCode</th>\n",
       "      <th>YearsCodePro</th>\n",
       "      <th>Employment</th>\n",
       "      <th>Gender</th>\n",
       "    </tr>\n",
       "  </thead>\n",
       "  <tbody>\n",
       "    <tr>\n",
       "      <th>0</th>\n",
       "      <td>NaN</td>\n",
       "      <td>13</td>\n",
       "      <td>27</td>\n",
       "      <td>Independent contractor, freelancer, or self-em...</td>\n",
       "      <td>Man</td>\n",
       "    </tr>\n",
       "    <tr>\n",
       "      <th>1</th>\n",
       "      <td>NaN</td>\n",
       "      <td>19</td>\n",
       "      <td>4</td>\n",
       "      <td>Employed full-time</td>\n",
       "      <td>NaN</td>\n",
       "    </tr>\n",
       "    <tr>\n",
       "      <th>2</th>\n",
       "      <td>NaN</td>\n",
       "      <td>15</td>\n",
       "      <td>NaN</td>\n",
       "      <td>NaN</td>\n",
       "      <td>NaN</td>\n",
       "    </tr>\n",
       "    <tr>\n",
       "      <th>3</th>\n",
       "      <td>25.0</td>\n",
       "      <td>18</td>\n",
       "      <td>4</td>\n",
       "      <td>NaN</td>\n",
       "      <td>Man</td>\n",
       "    </tr>\n",
       "    <tr>\n",
       "      <th>4</th>\n",
       "      <td>31.0</td>\n",
       "      <td>16</td>\n",
       "      <td>8</td>\n",
       "      <td>Employed full-time</td>\n",
       "      <td>Man</td>\n",
       "    </tr>\n",
       "  </tbody>\n",
       "</table>\n",
       "</div>"
      ],
      "text/plain": [
       "    Age Age1stCode YearsCodePro  \\\n",
       "0   NaN         13           27   \n",
       "1   NaN         19            4   \n",
       "2   NaN         15          NaN   \n",
       "3  25.0         18            4   \n",
       "4  31.0         16            8   \n",
       "\n",
       "                                          Employment Gender  \n",
       "0  Independent contractor, freelancer, or self-em...    Man  \n",
       "1                                 Employed full-time    NaN  \n",
       "2                                                NaN    NaN  \n",
       "3                                                NaN    Man  \n",
       "4                                 Employed full-time    Man  "
      ]
     },
     "execution_count": 533,
     "metadata": {},
     "output_type": "execute_result"
    }
   ],
   "source": [
    "df_dream = df[['Age','Age1stCode','YearsCodePro','Employment','Gender']]\n",
    "df_dream.head()"
   ]
  },
  {
   "cell_type": "code",
   "execution_count": 534,
   "metadata": {},
   "outputs": [],
   "source": [
    "df_dream = df_dream.dropna(subset=('Age','Age1stCode','YearsCodePro','Gender'),how='any')"
   ]
  },
  {
   "cell_type": "code",
   "execution_count": 535,
   "metadata": {},
   "outputs": [
    {
     "data": {
      "text/plain": [
       "array(['4', '8', '13', '2', '7', '20', '1', '23', '3', '12', '17', '10',\n",
       "       '14', '6', '28', '9', '15', '11', '25', 'Less than 1 year', '5',\n",
       "       '21', '16', '19', '35', '18', '24', '32', '22', '30', '38', '26',\n",
       "       '40', '27', '31', 'More than 50 years', '33', '34', '29', '36',\n",
       "       '37', '41', '45', '39', '47', '42', '46', '50', '43', '44', '48',\n",
       "       '49'], dtype=object)"
      ]
     },
     "execution_count": 535,
     "metadata": {},
     "output_type": "execute_result"
    }
   ],
   "source": [
    "df_dream['YearsCodePro'].unique()"
   ]
  },
  {
   "cell_type": "code",
   "execution_count": 536,
   "metadata": {},
   "outputs": [],
   "source": [
    "df_dream['YearsCodePro'] = df_dream['YearsCodePro'].replace(['Less than 1 year'], 0)"
   ]
  },
  {
   "cell_type": "code",
   "execution_count": 537,
   "metadata": {},
   "outputs": [],
   "source": [
    "df_dream = df_dream.reset_index(drop=True)"
   ]
  },
  {
   "cell_type": "code",
   "execution_count": 538,
   "metadata": {},
   "outputs": [],
   "source": [
    "df_dream = df_dream.loc[(df_dream['YearsCodePro']!= 'More than 50 years')&(df_dream['Employment']!='Student')&(df_dream['Age1stCode']!='Younger than 5 years')&(df_dream['Age1stCode']!='Older than 85')]"
   ]
  },
  {
   "cell_type": "code",
   "execution_count": 539,
   "metadata": {},
   "outputs": [
    {
     "data": {
      "text/plain": [
       "Employed full-time                                      31308\n",
       "Independent contractor, freelancer, or self-employed     3604\n",
       "Employed part-time                                       1163\n",
       "Name: Employment, dtype: int64"
      ]
     },
     "execution_count": 539,
     "metadata": {},
     "output_type": "execute_result"
    }
   ],
   "source": [
    "df_dream['Employment'].value_counts()"
   ]
  },
  {
   "cell_type": "code",
   "execution_count": 540,
   "metadata": {},
   "outputs": [
    {
     "data": {
      "text/plain": [
       "array(['18', '16', '12', '20', '14', '13', '42', '8', '15', '30', '21',\n",
       "       '10', '46', '9', '7', '6', '19', '17', '11', '25', '31', '29', '5',\n",
       "       '28', '38', '23', '22', '41', '24', '26', '35', '27', '40', '33',\n",
       "       '36', '32', '45', '44', '34', '39', '50', '37', '43', '48', '55',\n",
       "       '49', '47'], dtype=object)"
      ]
     },
     "execution_count": 540,
     "metadata": {},
     "output_type": "execute_result"
    }
   ],
   "source": [
    "df_dream['Age1stCode'].unique()"
   ]
  },
  {
   "cell_type": "code",
   "execution_count": 541,
   "metadata": {},
   "outputs": [
    {
     "data": {
      "text/plain": [
       "Age             float64\n",
       "Age1stCode       object\n",
       "YearsCodePro     object\n",
       "Employment       object\n",
       "Gender           object\n",
       "dtype: object"
      ]
     },
     "execution_count": 541,
     "metadata": {},
     "output_type": "execute_result"
    }
   ],
   "source": [
    "df_dream.dtypes"
   ]
  },
  {
   "cell_type": "code",
   "execution_count": 542,
   "metadata": {},
   "outputs": [],
   "source": [
    "df_dream[['Age1stCode','YearsCodePro','Age']] = df_dream[['Age1stCode','YearsCodePro','Age']].astype(int)"
   ]
  },
  {
   "cell_type": "code",
   "execution_count": 543,
   "metadata": {},
   "outputs": [
    {
     "data": {
      "text/html": [
       "<div>\n",
       "<style scoped>\n",
       "    .dataframe tbody tr th:only-of-type {\n",
       "        vertical-align: middle;\n",
       "    }\n",
       "\n",
       "    .dataframe tbody tr th {\n",
       "        vertical-align: top;\n",
       "    }\n",
       "\n",
       "    .dataframe thead th {\n",
       "        text-align: right;\n",
       "    }\n",
       "</style>\n",
       "<table border=\"1\" class=\"dataframe\">\n",
       "  <thead>\n",
       "    <tr style=\"text-align: right;\">\n",
       "      <th></th>\n",
       "      <th>Age</th>\n",
       "      <th>Age1stCode</th>\n",
       "      <th>YearsCodePro</th>\n",
       "      <th>Employment</th>\n",
       "      <th>Gender</th>\n",
       "    </tr>\n",
       "  </thead>\n",
       "  <tbody>\n",
       "    <tr>\n",
       "      <th>0</th>\n",
       "      <td>25</td>\n",
       "      <td>18</td>\n",
       "      <td>4</td>\n",
       "      <td>NaN</td>\n",
       "      <td>Man</td>\n",
       "    </tr>\n",
       "    <tr>\n",
       "      <th>1</th>\n",
       "      <td>31</td>\n",
       "      <td>16</td>\n",
       "      <td>8</td>\n",
       "      <td>Employed full-time</td>\n",
       "      <td>Man</td>\n",
       "    </tr>\n",
       "    <tr>\n",
       "      <th>2</th>\n",
       "      <td>36</td>\n",
       "      <td>12</td>\n",
       "      <td>13</td>\n",
       "      <td>Employed full-time</td>\n",
       "      <td>Man</td>\n",
       "    </tr>\n",
       "    <tr>\n",
       "      <th>3</th>\n",
       "      <td>30</td>\n",
       "      <td>20</td>\n",
       "      <td>4</td>\n",
       "      <td>Independent contractor, freelancer, or self-em...</td>\n",
       "      <td>Man</td>\n",
       "    </tr>\n",
       "    <tr>\n",
       "      <th>4</th>\n",
       "      <td>22</td>\n",
       "      <td>14</td>\n",
       "      <td>4</td>\n",
       "      <td>Employed full-time</td>\n",
       "      <td>Man</td>\n",
       "    </tr>\n",
       "  </tbody>\n",
       "</table>\n",
       "</div>"
      ],
      "text/plain": [
       "   Age  Age1stCode  YearsCodePro  \\\n",
       "0   25          18             4   \n",
       "1   31          16             8   \n",
       "2   36          12            13   \n",
       "3   30          20             4   \n",
       "4   22          14             4   \n",
       "\n",
       "                                          Employment Gender  \n",
       "0                                                NaN    Man  \n",
       "1                                 Employed full-time    Man  \n",
       "2                                 Employed full-time    Man  \n",
       "3  Independent contractor, freelancer, or self-em...    Man  \n",
       "4                                 Employed full-time    Man  "
      ]
     },
     "execution_count": 543,
     "metadata": {},
     "output_type": "execute_result"
    }
   ],
   "source": [
    "df_dream.head()"
   ]
  },
  {
   "cell_type": "markdown",
   "metadata": {},
   "source": [
    "## Question 1. How long did it take from coding first time to coding professionally?"
   ]
  },
  {
   "cell_type": "code",
   "execution_count": 544,
   "metadata": {},
   "outputs": [],
   "source": [
    "df_dream['Yrs_of_Transit'] = df_dream['Age']-df_dream['YearsCodePro']-df_dream['Age1stCode']"
   ]
  },
  {
   "cell_type": "code",
   "execution_count": 545,
   "metadata": {},
   "outputs": [],
   "source": [
    "#remove some unresonable outliers\n",
    "df_dream = df_dream[(df_dream['Yrs_of_Transit']>=0)&(df_dream['Yrs_of_Transit']<=50)]"
   ]
  },
  {
   "cell_type": "code",
   "execution_count": 546,
   "metadata": {},
   "outputs": [
    {
     "data": {
      "text/plain": [
       "(0.0, 3140.0)"
      ]
     },
     "execution_count": 546,
     "metadata": {},
     "output_type": "execute_result"
    },
    {
     "data": {
      "image/png": "[encoded data removed]",
      "text/plain": [
       "<Figure size 960x640 with 1 Axes>"
      ]
     },
     "metadata": {},
     "output_type": "display_data"
    }
   ],
   "source": [
    "#Make a graph showing how many years it took people from coding first time to professionally\n",
    "import matplotlib.pyplot as plt\n",
    "from matplotlib.pyplot import figure\n",
    "figure(figsize=(12, 8), dpi=80, facecolor='w', edgecolor='k')\n",
    "\n",
    "# An \"interface\" to matplotlib.axes.Axes.hist() method\n",
    "n, bins, patches = plt.hist(x=df_dream['Yrs_of_Transit'], bins='auto', color='#0504aa',\n",
    "                            alpha=0.7, rwidth=1)\n",
    "plt.grid(axis='y', alpha=0.75)\n",
    "plt.xlabel('Yrs_of_Transit')\n",
    "plt.ylabel('Frequency')\n",
    "plt.title('How many years it took to transit coding dream into career')\n",
    "plt.text(30, 50, r'$\\mu=8.6, sigma=5.4$')\n",
    "maxfreq = n.max()\n",
    "# Set a clean upper y-axis limit.\n",
    "plt.ylim(ymax=np.ceil(maxfreq / 10) * 10 if maxfreq % 10 else maxfreq + 10)"
   ]
  },
  {
   "cell_type": "code",
   "execution_count": 547,
   "metadata": {},
   "outputs": [
    {
     "data": {
      "text/plain": [
       "count    35818.000000\n",
       "mean         8.553772\n",
       "std          5.422839\n",
       "min          0.000000\n",
       "25%          5.000000\n",
       "50%          8.000000\n",
       "75%         11.000000\n",
       "max         45.000000\n",
       "Name: Yrs_of_Transit, dtype: float64"
      ]
     },
     "execution_count": 547,
     "metadata": {},
     "output_type": "execute_result"
    }
   ],
   "source": [
    "df_dream['Yrs_of_Transit'].describe()"
   ]
  },
  {
   "cell_type": "markdown",
   "metadata": {},
   "source": [
    "It takes about 8 years for the most people transit from coding first time to coding professionally. This insight may be useful for parents/schools when helping kids develop coding interests."
   ]
  },
  {
   "cell_type": "markdown",
   "metadata": {},
   "source": [
    "## Question 2. What jobs are respondents doing?  "
   ]
  },
  {
   "cell_type": "code",
   "execution_count": 548,
   "metadata": {},
   "outputs": [],
   "source": [
    "df_job = df.DevType.str.split(';').explode().value_counts()/len(df)*100\n",
    "df_job = df_job.rename_axis('DevType').reset_index(name='Percent')"
   ]
  },
  {
   "cell_type": "code",
   "execution_count": 549,
   "metadata": {},
   "outputs": [
    {
     "data": {
      "text/plain": [
       "<AxesSubplot:title={'center':'Ratio of Each Job Category (%)'}, xlabel='Percentage%', ylabel='DevType'>"
      ]
     },
     "execution_count": 549,
     "metadata": {},
     "output_type": "execute_result"
    },
    {
     "data": {
      "image/png": "[encoded data removed]",
      "text/plain": [
       "<Figure size 1080x648 with 1 Axes>"
      ]
     },
     "metadata": {
      "needs_background": "light"
     },
     "output_type": "display_data"
    }
   ],
   "source": [
    "plt.figure(figsize=(15,9))\n",
    "plt.xlabel(\"Percentage%\", size=15)\n",
    "plt.ylabel(\"Develop Type\", size=15)\n",
    "plt.title(\"Ratio of Each Job Category (%)\", size=15)\n",
    "plt.xticks(size=15)\n",
    "plt.yticks(size=15)\n",
    "df_sorted_desc= df_job.sort_values('Percent',ascending=True)\n",
    "df_sorted_desc.set_index('DevType').Percent.plot(kind='barh')"
   ]
  },
  {
   "cell_type": "markdown",
   "metadata": {},
   "source": [
    "The majority of job families among respondents in this survey is developer. Other than traditional developers, We also see diversity in this survey. There are 6% respondents are Data or Business analysts, and 6% are Data Scientist or Machine Learning specialists. Since I am also one of this job category, I am more interested the data in these two types: \n",
    "1. Data or business analyst\n",
    "2. Data scientist or machine learning specialist."
   ]
  },
  {
   "cell_type": "markdown",
   "metadata": {},
   "source": [
    "### I brainstormed some questions I am interested to deep dive about Data Scientist/Data/Business Analyst:\n",
    "- What were their undergraduate majors in school? \n",
    "- What are their education level?\n",
    "- What % of people codes as a hobby?\n",
    "- How satisfied about the job? \n",
    "- What job factors matter the most?\n",
    "- How does work life balance look like? \n",
    "- What tools do they use?"
   ]
  },
  {
   "cell_type": "code",
   "execution_count": 550,
   "metadata": {},
   "outputs": [
    {
     "data": {
      "text/html": [
       "<div>\n",
       "<style scoped>\n",
       "    .dataframe tbody tr th:only-of-type {\n",
       "        vertical-align: middle;\n",
       "    }\n",
       "\n",
       "    .dataframe tbody tr th {\n",
       "        vertical-align: top;\n",
       "    }\n",
       "\n",
       "    .dataframe thead th {\n",
       "        text-align: right;\n",
       "    }\n",
       "</style>\n",
       "<table border=\"1\" class=\"dataframe\">\n",
       "  <thead>\n",
       "    <tr style=\"text-align: right;\">\n",
       "      <th></th>\n",
       "      <th>Respondent</th>\n",
       "      <th>MainBranch</th>\n",
       "      <th>Hobbyist</th>\n",
       "      <th>Age</th>\n",
       "      <th>Age1stCode</th>\n",
       "      <th>CompFreq</th>\n",
       "      <th>CompTotal</th>\n",
       "      <th>ConvertedComp</th>\n",
       "      <th>Country</th>\n",
       "      <th>CurrencyDesc</th>\n",
       "      <th>...</th>\n",
       "      <th>SurveyEase</th>\n",
       "      <th>SurveyLength</th>\n",
       "      <th>Trans</th>\n",
       "      <th>UndergradMajor</th>\n",
       "      <th>WebframeDesireNextYear</th>\n",
       "      <th>WebframeWorkedWith</th>\n",
       "      <th>WelcomeChange</th>\n",
       "      <th>WorkWeekHrs</th>\n",
       "      <th>YearsCode</th>\n",
       "      <th>YearsCodePro</th>\n",
       "    </tr>\n",
       "  </thead>\n",
       "  <tbody>\n",
       "    <tr>\n",
       "      <th>35</th>\n",
       "      <td>36</td>\n",
       "      <td>I am not primarily a developer, but I write co...</td>\n",
       "      <td>Yes</td>\n",
       "      <td>34.0</td>\n",
       "      <td>30</td>\n",
       "      <td>Yearly</td>\n",
       "      <td>60000.0</td>\n",
       "      <td>77556.0</td>\n",
       "      <td>United Kingdom</td>\n",
       "      <td>Pound sterling</td>\n",
       "      <td>...</td>\n",
       "      <td>Easy</td>\n",
       "      <td>Appropriate in length</td>\n",
       "      <td>No</td>\n",
       "      <td>Computer science, computer engineering, or sof...</td>\n",
       "      <td>Express;React.js</td>\n",
       "      <td>Express;React.js</td>\n",
       "      <td>Just as welcome now as I felt last year</td>\n",
       "      <td>40.0</td>\n",
       "      <td>4</td>\n",
       "      <td>3</td>\n",
       "    </tr>\n",
       "    <tr>\n",
       "      <th>71</th>\n",
       "      <td>72</td>\n",
       "      <td>I am a developer by profession</td>\n",
       "      <td>Yes</td>\n",
       "      <td>25.0</td>\n",
       "      <td>16</td>\n",
       "      <td>NaN</td>\n",
       "      <td>NaN</td>\n",
       "      <td>NaN</td>\n",
       "      <td>United States</td>\n",
       "      <td>NaN</td>\n",
       "      <td>...</td>\n",
       "      <td>Easy</td>\n",
       "      <td>Appropriate in length</td>\n",
       "      <td>No</td>\n",
       "      <td>Mathematics or statistics</td>\n",
       "      <td>NaN</td>\n",
       "      <td>NaN</td>\n",
       "      <td>Just as welcome now as I felt last year</td>\n",
       "      <td>NaN</td>\n",
       "      <td>10</td>\n",
       "      <td>NaN</td>\n",
       "    </tr>\n",
       "    <tr>\n",
       "      <th>164</th>\n",
       "      <td>166</td>\n",
       "      <td>I am a developer by profession</td>\n",
       "      <td>Yes</td>\n",
       "      <td>28.0</td>\n",
       "      <td>9</td>\n",
       "      <td>Yearly</td>\n",
       "      <td>45000.0</td>\n",
       "      <td>48644.0</td>\n",
       "      <td>Germany</td>\n",
       "      <td>European Euro</td>\n",
       "      <td>...</td>\n",
       "      <td>Neither easy nor difficult</td>\n",
       "      <td>Appropriate in length</td>\n",
       "      <td>No</td>\n",
       "      <td>A natural science (such as biology, chemistry,...</td>\n",
       "      <td>NaN</td>\n",
       "      <td>NaN</td>\n",
       "      <td>Just as welcome now as I felt last year</td>\n",
       "      <td>40.0</td>\n",
       "      <td>15</td>\n",
       "      <td>6</td>\n",
       "    </tr>\n",
       "    <tr>\n",
       "      <th>219</th>\n",
       "      <td>221</td>\n",
       "      <td>I am a developer by profession</td>\n",
       "      <td>Yes</td>\n",
       "      <td>24.0</td>\n",
       "      <td>16</td>\n",
       "      <td>Yearly</td>\n",
       "      <td>45000.0</td>\n",
       "      <td>48644.0</td>\n",
       "      <td>France</td>\n",
       "      <td>European Euro</td>\n",
       "      <td>...</td>\n",
       "      <td>Easy</td>\n",
       "      <td>Appropriate in length</td>\n",
       "      <td>No</td>\n",
       "      <td>Computer science, computer engineering, or sof...</td>\n",
       "      <td>React.js;Vue.js</td>\n",
       "      <td>ASP.NET;Django;Express;Vue.js</td>\n",
       "      <td>Just as welcome now as I felt last year</td>\n",
       "      <td>38.0</td>\n",
       "      <td>8</td>\n",
       "      <td>2</td>\n",
       "    </tr>\n",
       "    <tr>\n",
       "      <th>260</th>\n",
       "      <td>262</td>\n",
       "      <td>I am a developer by profession</td>\n",
       "      <td>Yes</td>\n",
       "      <td>37.0</td>\n",
       "      <td>10</td>\n",
       "      <td>Yearly</td>\n",
       "      <td>171000.0</td>\n",
       "      <td>171000.0</td>\n",
       "      <td>United States</td>\n",
       "      <td>United States dollar</td>\n",
       "      <td>...</td>\n",
       "      <td>Easy</td>\n",
       "      <td>Too short</td>\n",
       "      <td>No</td>\n",
       "      <td>A social science (such as anthropology, psycho...</td>\n",
       "      <td>Django;React.js;Vue.js</td>\n",
       "      <td>Django</td>\n",
       "      <td>Just as welcome now as I felt last year</td>\n",
       "      <td>45.0</td>\n",
       "      <td>10</td>\n",
       "      <td>10</td>\n",
       "    </tr>\n",
       "  </tbody>\n",
       "</table>\n",
       "<p>5 rows × 61 columns</p>\n",
       "</div>"
      ],
      "text/plain": [
       "     Respondent                                         MainBranch Hobbyist  \\\n",
       "35           36  I am not primarily a developer, but I write co...      Yes   \n",
       "71           72                     I am a developer by profession      Yes   \n",
       "164         166                     I am a developer by profession      Yes   \n",
       "219         221                     I am a developer by profession      Yes   \n",
       "260         262                     I am a developer by profession      Yes   \n",
       "\n",
       "      Age Age1stCode CompFreq  CompTotal  ConvertedComp         Country  \\\n",
       "35   34.0         30   Yearly    60000.0        77556.0  United Kingdom   \n",
       "71   25.0         16      NaN        NaN            NaN   United States   \n",
       "164  28.0          9   Yearly    45000.0        48644.0         Germany   \n",
       "219  24.0         16   Yearly    45000.0        48644.0          France   \n",
       "260  37.0         10   Yearly   171000.0       171000.0   United States   \n",
       "\n",
       "             CurrencyDesc  ...                  SurveyEase  \\\n",
       "35         Pound sterling  ...                        Easy   \n",
       "71                    NaN  ...                        Easy   \n",
       "164         European Euro  ...  Neither easy nor difficult   \n",
       "219         European Euro  ...                        Easy   \n",
       "260  United States dollar  ...                        Easy   \n",
       "\n",
       "              SurveyLength Trans  \\\n",
       "35   Appropriate in length    No   \n",
       "71   Appropriate in length    No   \n",
       "164  Appropriate in length    No   \n",
       "219  Appropriate in length    No   \n",
       "260              Too short    No   \n",
       "\n",
       "                                        UndergradMajor  \\\n",
       "35   Computer science, computer engineering, or sof...   \n",
       "71                           Mathematics or statistics   \n",
       "164  A natural science (such as biology, chemistry,...   \n",
       "219  Computer science, computer engineering, or sof...   \n",
       "260  A social science (such as anthropology, psycho...   \n",
       "\n",
       "     WebframeDesireNextYear             WebframeWorkedWith  \\\n",
       "35         Express;React.js               Express;React.js   \n",
       "71                      NaN                            NaN   \n",
       "164                     NaN                            NaN   \n",
       "219         React.js;Vue.js  ASP.NET;Django;Express;Vue.js   \n",
       "260  Django;React.js;Vue.js                         Django   \n",
       "\n",
       "                               WelcomeChange WorkWeekHrs YearsCode  \\\n",
       "35   Just as welcome now as I felt last year        40.0         4   \n",
       "71   Just as welcome now as I felt last year         NaN        10   \n",
       "164  Just as welcome now as I felt last year        40.0        15   \n",
       "219  Just as welcome now as I felt last year        38.0         8   \n",
       "260  Just as welcome now as I felt last year        45.0        10   \n",
       "\n",
       "    YearsCodePro  \n",
       "35             3  \n",
       "71           NaN  \n",
       "164            6  \n",
       "219            2  \n",
       "260           10  \n",
       "\n",
       "[5 rows x 61 columns]"
      ]
     },
     "execution_count": 550,
     "metadata": {},
     "output_type": "execute_result"
    }
   ],
   "source": [
    "ds = df[(df['DevType'].str.contains('Data scientist'))&(df['DevType'].str.contains('Data or business analyst'))]\n",
    "ds.head()"
   ]
  },
  {
   "cell_type": "code",
   "execution_count": 551,
   "metadata": {},
   "outputs": [
    {
     "data": {
      "text/plain": [
       "(1297, 61)"
      ]
     },
     "execution_count": 551,
     "metadata": {},
     "output_type": "execute_result"
    }
   ],
   "source": [
    "ds.shape"
   ]
  },
  {
   "cell_type": "markdown",
   "metadata": {},
   "source": [
    "## Question 3. What were their undergraduate majors in school?"
   ]
  },
  {
   "cell_type": "code",
   "execution_count": 552,
   "metadata": {},
   "outputs": [
    {
     "data": {
      "text/html": [
       "<div>\n",
       "<style scoped>\n",
       "    .dataframe tbody tr th:only-of-type {\n",
       "        vertical-align: middle;\n",
       "    }\n",
       "\n",
       "    .dataframe tbody tr th {\n",
       "        vertical-align: top;\n",
       "    }\n",
       "\n",
       "    .dataframe thead th {\n",
       "        text-align: right;\n",
       "    }\n",
       "</style>\n",
       "<table border=\"1\" class=\"dataframe\">\n",
       "  <thead>\n",
       "    <tr style=\"text-align: right;\">\n",
       "      <th></th>\n",
       "      <th>Major</th>\n",
       "      <th>Percent</th>\n",
       "    </tr>\n",
       "  </thead>\n",
       "  <tbody>\n",
       "    <tr>\n",
       "      <th>0</th>\n",
       "      <td>Computer science, computer engineering, or sof...</td>\n",
       "      <td>39.244410</td>\n",
       "    </tr>\n",
       "    <tr>\n",
       "      <th>1</th>\n",
       "      <td>Another engineering discipline (such as civil,...</td>\n",
       "      <td>11.488049</td>\n",
       "    </tr>\n",
       "    <tr>\n",
       "      <th>2</th>\n",
       "      <td>Mathematics or statistics</td>\n",
       "      <td>11.256746</td>\n",
       "    </tr>\n",
       "    <tr>\n",
       "      <th>3</th>\n",
       "      <td>Information systems, information technology, o...</td>\n",
       "      <td>7.247494</td>\n",
       "    </tr>\n",
       "    <tr>\n",
       "      <th>4</th>\n",
       "      <td>A natural science (such as biology, chemistry,...</td>\n",
       "      <td>6.939090</td>\n",
       "    </tr>\n",
       "    <tr>\n",
       "      <th>5</th>\n",
       "      <td>A social science (such as anthropology, psycho...</td>\n",
       "      <td>5.397070</td>\n",
       "    </tr>\n",
       "    <tr>\n",
       "      <th>6</th>\n",
       "      <td>A business discipline (such as accounting, fin...</td>\n",
       "      <td>5.397070</td>\n",
       "    </tr>\n",
       "    <tr>\n",
       "      <th>7</th>\n",
       "      <td>A humanities discipline (such as literature, h...</td>\n",
       "      <td>1.696222</td>\n",
       "    </tr>\n",
       "    <tr>\n",
       "      <th>8</th>\n",
       "      <td>Web development or web design</td>\n",
       "      <td>1.002313</td>\n",
       "    </tr>\n",
       "    <tr>\n",
       "      <th>9</th>\n",
       "      <td>Fine arts or performing arts (such as graphic ...</td>\n",
       "      <td>0.539707</td>\n",
       "    </tr>\n",
       "    <tr>\n",
       "      <th>10</th>\n",
       "      <td>A health science (such as nursing, pharmacy, r...</td>\n",
       "      <td>0.462606</td>\n",
       "    </tr>\n",
       "    <tr>\n",
       "      <th>11</th>\n",
       "      <td>I never declared a major</td>\n",
       "      <td>0.308404</td>\n",
       "    </tr>\n",
       "  </tbody>\n",
       "</table>\n",
       "</div>"
      ],
      "text/plain": [
       "                                                Major    Percent\n",
       "0   Computer science, computer engineering, or sof...  39.244410\n",
       "1   Another engineering discipline (such as civil,...  11.488049\n",
       "2                           Mathematics or statistics  11.256746\n",
       "3   Information systems, information technology, o...   7.247494\n",
       "4   A natural science (such as biology, chemistry,...   6.939090\n",
       "5   A social science (such as anthropology, psycho...   5.397070\n",
       "6   A business discipline (such as accounting, fin...   5.397070\n",
       "7   A humanities discipline (such as literature, h...   1.696222\n",
       "8                       Web development or web design   1.002313\n",
       "9   Fine arts or performing arts (such as graphic ...   0.539707\n",
       "10  A health science (such as nursing, pharmacy, r...   0.462606\n",
       "11                           I never declared a major   0.308404"
      ]
     },
     "execution_count": 552,
     "metadata": {},
     "output_type": "execute_result"
    }
   ],
   "source": [
    "df1 = ds['UndergradMajor'].value_counts()/len(ds)*100\n",
    "\n",
    "df1 = df1.rename_axis('Major').reset_index(name='Percent')\n",
    "df1"
   ]
  },
  {
   "cell_type": "code",
   "execution_count": 553,
   "metadata": {},
   "outputs": [
    {
     "data": {
      "text/html": [
       "<div>\n",
       "<style scoped>\n",
       "    .dataframe tbody tr th:only-of-type {\n",
       "        vertical-align: middle;\n",
       "    }\n",
       "\n",
       "    .dataframe tbody tr th {\n",
       "        vertical-align: top;\n",
       "    }\n",
       "\n",
       "    .dataframe thead th {\n",
       "        text-align: right;\n",
       "    }\n",
       "</style>\n",
       "<table border=\"1\" class=\"dataframe\">\n",
       "  <thead>\n",
       "    <tr style=\"text-align: right;\">\n",
       "      <th></th>\n",
       "      <th>Major</th>\n",
       "      <th>Percent</th>\n",
       "    </tr>\n",
       "  </thead>\n",
       "  <tbody>\n",
       "    <tr>\n",
       "      <th>0</th>\n",
       "      <td>Computer science, computer engineering, or sof...</td>\n",
       "      <td>48.993965</td>\n",
       "    </tr>\n",
       "    <tr>\n",
       "      <th>1</th>\n",
       "      <td>Another engineering discipline (such as civil,...</td>\n",
       "      <td>7.375002</td>\n",
       "    </tr>\n",
       "    <tr>\n",
       "      <th>2</th>\n",
       "      <td>Information systems, information technology, o...</td>\n",
       "      <td>6.315447</td>\n",
       "    </tr>\n",
       "    <tr>\n",
       "      <th>3</th>\n",
       "      <td>A natural science (such as biology, chemistry,...</td>\n",
       "      <td>3.420673</td>\n",
       "    </tr>\n",
       "    <tr>\n",
       "      <th>4</th>\n",
       "      <td>Mathematics or statistics</td>\n",
       "      <td>2.868401</td>\n",
       "    </tr>\n",
       "    <tr>\n",
       "      <th>5</th>\n",
       "      <td>Web development or web design</td>\n",
       "      <td>2.775322</td>\n",
       "    </tr>\n",
       "    <tr>\n",
       "      <th>6</th>\n",
       "      <td>A business discipline (such as accounting, fin...</td>\n",
       "      <td>2.133073</td>\n",
       "    </tr>\n",
       "    <tr>\n",
       "      <th>7</th>\n",
       "      <td>A humanities discipline (such as literature, h...</td>\n",
       "      <td>1.562185</td>\n",
       "    </tr>\n",
       "    <tr>\n",
       "      <th>8</th>\n",
       "      <td>A social science (such as anthropology, psycho...</td>\n",
       "      <td>1.447387</td>\n",
       "    </tr>\n",
       "    <tr>\n",
       "      <th>9</th>\n",
       "      <td>Fine arts or performing arts (such as graphic ...</td>\n",
       "      <td>1.124711</td>\n",
       "    </tr>\n",
       "    <tr>\n",
       "      <th>10</th>\n",
       "      <td>I never declared a major</td>\n",
       "      <td>0.702751</td>\n",
       "    </tr>\n",
       "    <tr>\n",
       "      <th>11</th>\n",
       "      <td>A health science (such as nursing, pharmacy, r...</td>\n",
       "      <td>0.390934</td>\n",
       "    </tr>\n",
       "  </tbody>\n",
       "</table>\n",
       "</div>"
      ],
      "text/plain": [
       "                                                Major    Percent\n",
       "0   Computer science, computer engineering, or sof...  48.993965\n",
       "1   Another engineering discipline (such as civil,...   7.375002\n",
       "2   Information systems, information technology, o...   6.315447\n",
       "3   A natural science (such as biology, chemistry,...   3.420673\n",
       "4                           Mathematics or statistics   2.868401\n",
       "5                       Web development or web design   2.775322\n",
       "6   A business discipline (such as accounting, fin...   2.133073\n",
       "7   A humanities discipline (such as literature, h...   1.562185\n",
       "8   A social science (such as anthropology, psycho...   1.447387\n",
       "9   Fine arts or performing arts (such as graphic ...   1.124711\n",
       "10                           I never declared a major   0.702751\n",
       "11  A health science (such as nursing, pharmacy, r...   0.390934"
      ]
     },
     "execution_count": 553,
     "metadata": {},
     "output_type": "execute_result"
    }
   ],
   "source": [
    "df2 = df[(df['DevType'].str.contains('Data scientist')==False)&(df['DevType'].str.contains('Data or business analyst')==False)]\n",
    "df2 = df['UndergradMajor'].value_counts()/len(df)*100\n",
    "\n",
    "df2 = df2.rename_axis('Major').reset_index(name='Percent')\n",
    "df2"
   ]
  },
  {
   "cell_type": "code",
   "execution_count": 554,
   "metadata": {},
   "outputs": [
    {
     "data": {
      "text/plain": [
       "<AxesSubplot:>"
      ]
     },
     "execution_count": 554,
     "metadata": {},
     "output_type": "execute_result"
    },
    {
     "data": {
      "image/png": "[encoded data removed]",
      "text/plain": [
       "<Figure size 720x432 with 1 Axes>"
      ]
     },
     "metadata": {
      "needs_background": "light"
     },
     "output_type": "display_data"
    }
   ],
   "source": [
    "#visualize it by concating two group of respondents\n",
    "pd.concat({\n",
    "    'DS/DA/BA Respondents': df1.set_index('Major').Percent, 'Other Respondents': df2.set_index('Major').Percent\n",
    "}, axis=1).plot.bar(figsize=(10,6),fontsize = 14)"
   ]
  },
  {
   "cell_type": "markdown",
   "metadata": {},
   "source": [
    "There are 13 major options in the survey. Most survey respondents are Computer Science background, but DS/DA/DB respondents are relatively more diverse. Among DS/DA/BA respondents, top five are STEM majors. In top 5, Math/Statistic major respondents have a much higher ratio that went into DS field, meaning that it is a relatively favored major to break into the DS professionally. Followed by that, other non-traditional majors in Data Science include Social Science and Business. "
   ]
  },
  {
   "cell_type": "markdown",
   "metadata": {},
   "source": [
    "## Question 4. What are their education level?"
   ]
  },
  {
   "cell_type": "code",
   "execution_count": 555,
   "metadata": {},
   "outputs": [],
   "source": [
    "ds = ds.reset_index(drop=True)"
   ]
  },
  {
   "cell_type": "code",
   "execution_count": 556,
   "metadata": {},
   "outputs": [],
   "source": [
    "#Cleaning Education name as it is too long for readers\n",
    "ds['Education'] = \"\"\n",
    "\n",
    "for i in range(len(ds['EdLevel'])):\n",
    "    if ds['EdLevel'][i]=='Some college/university study without earning a degree':\n",
    "        ds.loc[i,'Education']='College without degrees'\n",
    "    elif ds['EdLevel'][i]=='Bachelor’s degree (B.A., B.S., B.Eng., etc.)':\n",
    "        ds.loc[i,'Education']='Bachelor'\n",
    "    elif ds['EdLevel'][i]=='Other doctoral degree (Ph.D., Ed.D., etc.)':\n",
    "        ds.loc[i,'Education']='PhD'\n",
    "    elif ds['EdLevel'][i]=='Master’s degree (M.A., M.S., M.Eng., MBA, etc.)':\n",
    "        ds.loc[i,'Education']='Master'\n",
    "    elif ds['EdLevel'][i]=='Secondary school (e.g. American high school, German Realschule or Gymnasium, etc.)':\n",
    "        ds.loc[i,'Education']='Secondary'\n",
    "    elif ds['EdLevel'][i]=='Professional degree (JD, MD, etc.)':\n",
    "        ds.loc[i,'Education']='Professional/JD/MD'\n",
    "    elif ds['EdLevel'][i]=='Associate degree (A.A., A.S., etc.)':\n",
    "        ds.loc[i,'Education']='Associate'\n",
    "    elif ds['EdLevel'][i]=='I never completed any formal education':\n",
    "        ds.loc[i,'Education']='No Education'\n",
    "    elif ds['EdLevel'][i]=='Primary/elementary school':\n",
    "        ds.loc[i,'Education']='Primary/Elementary'"
   ]
  },
  {
   "cell_type": "code",
   "execution_count": 557,
   "metadata": {},
   "outputs": [],
   "source": [
    "ds = ds[ds['Education']!='']"
   ]
  },
  {
   "cell_type": "code",
   "execution_count": 558,
   "metadata": {},
   "outputs": [],
   "source": [
    "df3 = ds['Education'].value_counts()/len(ds['Education'])"
   ]
  },
  {
   "cell_type": "code",
   "execution_count": 559,
   "metadata": {},
   "outputs": [
    {
     "data": {
      "text/html": [
       "<div>\n",
       "<style scoped>\n",
       "    .dataframe tbody tr th:only-of-type {\n",
       "        vertical-align: middle;\n",
       "    }\n",
       "\n",
       "    .dataframe tbody tr th {\n",
       "        vertical-align: top;\n",
       "    }\n",
       "\n",
       "    .dataframe thead th {\n",
       "        text-align: right;\n",
       "    }\n",
       "</style>\n",
       "<table border=\"1\" class=\"dataframe\">\n",
       "  <thead>\n",
       "    <tr style=\"text-align: right;\">\n",
       "      <th></th>\n",
       "      <th>Education</th>\n",
       "      <th>Percent</th>\n",
       "    </tr>\n",
       "  </thead>\n",
       "  <tbody>\n",
       "    <tr>\n",
       "      <th>0</th>\n",
       "      <td>Bachelor</td>\n",
       "      <td>0.390244</td>\n",
       "    </tr>\n",
       "    <tr>\n",
       "      <th>1</th>\n",
       "      <td>Master</td>\n",
       "      <td>0.358773</td>\n",
       "    </tr>\n",
       "    <tr>\n",
       "      <th>2</th>\n",
       "      <td>PhD</td>\n",
       "      <td>0.080252</td>\n",
       "    </tr>\n",
       "    <tr>\n",
       "      <th>3</th>\n",
       "      <td>College without degrees</td>\n",
       "      <td>0.075531</td>\n",
       "    </tr>\n",
       "    <tr>\n",
       "      <th>4</th>\n",
       "      <td>No Education</td>\n",
       "      <td>0.022817</td>\n",
       "    </tr>\n",
       "    <tr>\n",
       "      <th>5</th>\n",
       "      <td>Secondary</td>\n",
       "      <td>0.022030</td>\n",
       "    </tr>\n",
       "    <tr>\n",
       "      <th>6</th>\n",
       "      <td>Professional/JD/MD</td>\n",
       "      <td>0.020456</td>\n",
       "    </tr>\n",
       "    <tr>\n",
       "      <th>7</th>\n",
       "      <td>Associate</td>\n",
       "      <td>0.016522</td>\n",
       "    </tr>\n",
       "    <tr>\n",
       "      <th>8</th>\n",
       "      <td>Primary/Elementary</td>\n",
       "      <td>0.013375</td>\n",
       "    </tr>\n",
       "  </tbody>\n",
       "</table>\n",
       "</div>"
      ],
      "text/plain": [
       "                 Education   Percent\n",
       "0                 Bachelor  0.390244\n",
       "1                   Master  0.358773\n",
       "2                      PhD  0.080252\n",
       "3  College without degrees  0.075531\n",
       "4             No Education  0.022817\n",
       "5                Secondary  0.022030\n",
       "6       Professional/JD/MD  0.020456\n",
       "7                Associate  0.016522\n",
       "8       Primary/Elementary  0.013375"
      ]
     },
     "execution_count": 559,
     "metadata": {},
     "output_type": "execute_result"
    }
   ],
   "source": [
    "df3 = df3.rename_axis('Education').reset_index(name='Percent')\n",
    "df3"
   ]
  },
  {
   "cell_type": "code",
   "execution_count": 560,
   "metadata": {},
   "outputs": [],
   "source": [
    "df4 = df[(df['DevType'].str.contains('Data scientist')==False)&\n",
    "         (df['DevType'].str.contains('Data or business analyst')==False)&\n",
    "         (df['EdLevel'].notnull())]"
   ]
  },
  {
   "cell_type": "code",
   "execution_count": 561,
   "metadata": {},
   "outputs": [],
   "source": [
    "df4 = df4.reset_index(drop=True)"
   ]
  },
  {
   "cell_type": "code",
   "execution_count": 562,
   "metadata": {},
   "outputs": [],
   "source": [
    "df4['Education'] = \"\"\n",
    "\n",
    "for i in range(len(df4['EdLevel'])):\n",
    "    if df4['EdLevel'][i]=='Some college/university study without earning a degree':\n",
    "        df4.loc[i,'Education']='College without degrees'\n",
    "    elif df4['EdLevel'][i]=='Bachelor’s degree (B.A., B.S., B.Eng., etc.)':\n",
    "        df4.loc[i,'Education']='Bachelor'\n",
    "    elif df4['EdLevel'][i]=='Other doctoral degree (Ph.D., Ed.D., etc.)':\n",
    "        df4.loc[i,'Education']='PhD'\n",
    "    elif df4['EdLevel'][i]=='Master’s degree (M.A., M.S., M.Eng., MBA, etc.)':\n",
    "        df4.loc[i,'Education']='Master'\n",
    "    elif df4['EdLevel'][i]=='Secondary school (e.g. American high school, German Realschule or Gymnasium, etc.)':\n",
    "        df4.loc[i,'Education']='Secondary'\n",
    "    elif df4['EdLevel'][i]=='Professional degree (JD, MD, etc.)':\n",
    "        df4.loc[i,'Education']='Professional/JD/MD'\n",
    "    elif df4['EdLevel'][i]=='Associate degree (A.A., A.S., etc.)':\n",
    "        df4.loc[i,'Education']='Associate'\n",
    "    elif df4['EdLevel'][i]=='I never completed any formal education':\n",
    "        df4.loc[i,'Education']='No Education'\n",
    "    elif df4['EdLevel'][i]=='Primary/elementary school':\n",
    "        df4.loc[i,'Education']='Primary/Elementary'   "
   ]
  },
  {
   "cell_type": "code",
   "execution_count": 563,
   "metadata": {},
   "outputs": [],
   "source": [
    "df4 = df4['Education'].value_counts()/len(df4['Education'])"
   ]
  },
  {
   "cell_type": "code",
   "execution_count": 564,
   "metadata": {},
   "outputs": [
    {
     "data": {
      "text/html": [
       "<div>\n",
       "<style scoped>\n",
       "    .dataframe tbody tr th:only-of-type {\n",
       "        vertical-align: middle;\n",
       "    }\n",
       "\n",
       "    .dataframe tbody tr th {\n",
       "        vertical-align: top;\n",
       "    }\n",
       "\n",
       "    .dataframe thead th {\n",
       "        text-align: right;\n",
       "    }\n",
       "</style>\n",
       "<table border=\"1\" class=\"dataframe\">\n",
       "  <thead>\n",
       "    <tr style=\"text-align: right;\">\n",
       "      <th></th>\n",
       "      <th>Education</th>\n",
       "      <th>Percent</th>\n",
       "    </tr>\n",
       "  </thead>\n",
       "  <tbody>\n",
       "    <tr>\n",
       "      <th>0</th>\n",
       "      <td>Bachelor</td>\n",
       "      <td>0.503853</td>\n",
       "    </tr>\n",
       "    <tr>\n",
       "      <th>1</th>\n",
       "      <td>Master</td>\n",
       "      <td>0.237568</td>\n",
       "    </tr>\n",
       "    <tr>\n",
       "      <th>2</th>\n",
       "      <td>College without degrees</td>\n",
       "      <td>0.122936</td>\n",
       "    </tr>\n",
       "    <tr>\n",
       "      <th>3</th>\n",
       "      <td>Secondary</td>\n",
       "      <td>0.050783</td>\n",
       "    </tr>\n",
       "    <tr>\n",
       "      <th>4</th>\n",
       "      <td>Associate</td>\n",
       "      <td>0.034629</td>\n",
       "    </tr>\n",
       "    <tr>\n",
       "      <th>5</th>\n",
       "      <td>PhD</td>\n",
       "      <td>0.022926</td>\n",
       "    </tr>\n",
       "    <tr>\n",
       "      <th>6</th>\n",
       "      <td>Professional/JD/MD</td>\n",
       "      <td>0.014766</td>\n",
       "    </tr>\n",
       "    <tr>\n",
       "      <th>7</th>\n",
       "      <td>No Education</td>\n",
       "      <td>0.006533</td>\n",
       "    </tr>\n",
       "    <tr>\n",
       "      <th>8</th>\n",
       "      <td>Primary/Elementary</td>\n",
       "      <td>0.006007</td>\n",
       "    </tr>\n",
       "  </tbody>\n",
       "</table>\n",
       "</div>"
      ],
      "text/plain": [
       "                 Education   Percent\n",
       "0                 Bachelor  0.503853\n",
       "1                   Master  0.237568\n",
       "2  College without degrees  0.122936\n",
       "3                Secondary  0.050783\n",
       "4                Associate  0.034629\n",
       "5                      PhD  0.022926\n",
       "6       Professional/JD/MD  0.014766\n",
       "7             No Education  0.006533\n",
       "8       Primary/Elementary  0.006007"
      ]
     },
     "execution_count": 564,
     "metadata": {},
     "output_type": "execute_result"
    }
   ],
   "source": [
    "df4 = df4.rename_axis('Education').reset_index(name='Percent')\n",
    "df4"
   ]
  },
  {
   "cell_type": "code",
   "execution_count": 565,
   "metadata": {},
   "outputs": [
    {
     "data": {
      "text/plain": [
       "<AxesSubplot:>"
      ]
     },
     "execution_count": 565,
     "metadata": {},
     "output_type": "execute_result"
    },
    {
     "data": {
      "image/png": "[encoded data removed]",
      "text/plain": [
       "<Figure size 720x432 with 1 Axes>"
      ]
     },
     "metadata": {
      "needs_background": "light"
     },
     "output_type": "display_data"
    }
   ],
   "source": [
    "#visualize education level results in two groups\n",
    "pd.concat({\n",
    "    'DS/DA/BA Respondents': df3.set_index('Education').Percent, 'Other Respondents': df4.set_index('Education').Percent\n",
    "}, axis=1).plot.bar(figsize=(10,6),fontsize = 14)"
   ]
  },
  {
   "cell_type": "markdown",
   "metadata": {},
   "source": [
    "It indicates that DS Analytic respondents have a relatively higher ratio of high-education users, including Master and PhD degrees. "
   ]
  },
  {
   "cell_type": "markdown",
   "metadata": {},
   "source": [
    "## Question 5. What % of people codes as a hobby? "
   ]
  },
  {
   "cell_type": "code",
   "execution_count": 566,
   "metadata": {},
   "outputs": [
    {
     "data": {
      "text/plain": [
       "Yes    80.645161\n",
       "No     19.354839\n",
       "Name: Hobbyist, dtype: float64"
      ]
     },
     "execution_count": 566,
     "metadata": {},
     "output_type": "execute_result"
    }
   ],
   "source": [
    "ds['Hobbyist'].value_counts()/len(ds)*100"
   ]
  },
  {
   "cell_type": "code",
   "execution_count": 567,
   "metadata": {},
   "outputs": [
    {
     "data": {
      "text/plain": [
       "Yes    1025\n",
       "No      246\n",
       "Name: Hobbyist, dtype: int64"
      ]
     },
     "execution_count": 567,
     "metadata": {},
     "output_type": "execute_result"
    }
   ],
   "source": [
    "ds['Hobbyist'].value_counts()"
   ]
  },
  {
   "cell_type": "code",
   "execution_count": 568,
   "metadata": {},
   "outputs": [
    {
     "data": {
      "text/plain": [
       "Yes    77.024968\n",
       "No     22.975032\n",
       "Name: Hobbyist, dtype: float64"
      ]
     },
     "execution_count": 568,
     "metadata": {},
     "output_type": "execute_result"
    }
   ],
   "source": [
    "df_h = df[(df['DevType'].str.contains('Data scientist')==False)&\n",
    "         (df['DevType'].str.contains('Data or business analyst')==False)]\n",
    "\n",
    "df_h['Hobbyist'].value_counts()/len(df_h)*100"
   ]
  },
  {
   "cell_type": "code",
   "execution_count": 569,
   "metadata": {},
   "outputs": [
    {
     "data": {
      "text/plain": [
       "Yes    32855\n",
       "No      9800\n",
       "Name: Hobbyist, dtype: int64"
      ]
     },
     "execution_count": 569,
     "metadata": {},
     "output_type": "execute_result"
    }
   ],
   "source": [
    "df_h['Hobbyist'].value_counts()"
   ]
  },
  {
   "attachments": {
    "image.png": {
     "image/png": "[encoded data removed]"
    }
   },
   "cell_type": "markdown",
   "metadata": {},
   "source": [
    "It seems that more users in DS/BA/DA group code as hobby compared to the rest. However, is this difference by accident? In another word, does job category (DS versus others) is associated with this coding hobby? Let's do a hypothesis testing on association using Chi-square method.\n",
    "\n",
    "The Chi-Squared test is a statistical hypothesis test that assumes (the null hypothesis) that the observed frequencies for a categorical variable match the expected frequencies for the categorical variable. I set the hypothesis as below:\n",
    "\n",
    "Step1:\n",
    "- Ho: There is no difference in \"coding as a hobby\" ratio in each career category ( DS/BA/DA versus The rest).\n",
    "- Ha: There is a difference in \"coding as a hobby\" ratio in each career category ( DS/BA/DA versus The rest).\n",
    "\n",
    "Step2: Choose a significance Level\n",
    "We choose α = 0.05\n",
    "\n",
    "Step3: Create Contingency table\n",
    "\n",
    "Step4: Calculate Expected Frequency\n",
    "\n",
    "Step5: Calculate the Chi-Square value or Chi-Square Statistic\n",
    "![image.png](attachment:image.png)\n",
    "\n",
    "Step6: Calculate degrees of freedom\n",
    "\n",
    "Step7: Find p-value\n",
    "\n",
    "Step8: Decide whether to reject or keep our null hypothesis\n",
    "\n"
   ]
  },
  {
   "cell_type": "code",
   "execution_count": 570,
   "metadata": {},
   "outputs": [],
   "source": [
    "df_h1 = ds['Hobbyist'].value_counts()\n",
    "df_h1 = df_h1.rename_axis('Hobbyist').reset_index(name='Count')"
   ]
  },
  {
   "cell_type": "code",
   "execution_count": 571,
   "metadata": {},
   "outputs": [],
   "source": [
    "df_h2 = df_h['Hobbyist'].value_counts()\n",
    "df_h2 = df_h2.rename_axis('Hobbyist').reset_index(name='Count')"
   ]
  },
  {
   "cell_type": "code",
   "execution_count": 572,
   "metadata": {},
   "outputs": [
    {
     "data": {
      "text/html": [
       "<div>\n",
       "<style scoped>\n",
       "    .dataframe tbody tr th:only-of-type {\n",
       "        vertical-align: middle;\n",
       "    }\n",
       "\n",
       "    .dataframe tbody tr th {\n",
       "        vertical-align: top;\n",
       "    }\n",
       "\n",
       "    .dataframe thead th {\n",
       "        text-align: right;\n",
       "    }\n",
       "</style>\n",
       "<table border=\"1\" class=\"dataframe\">\n",
       "  <thead>\n",
       "    <tr style=\"text-align: right;\">\n",
       "      <th></th>\n",
       "      <th>Yes</th>\n",
       "      <th>No</th>\n",
       "    </tr>\n",
       "  </thead>\n",
       "  <tbody>\n",
       "    <tr>\n",
       "      <th>DS/DA/BA</th>\n",
       "      <td>1025</td>\n",
       "      <td>246</td>\n",
       "    </tr>\n",
       "    <tr>\n",
       "      <th>Others</th>\n",
       "      <td>32855</td>\n",
       "      <td>9800</td>\n",
       "    </tr>\n",
       "  </tbody>\n",
       "</table>\n",
       "</div>"
      ],
      "text/plain": [
       "            Yes    No\n",
       "DS/DA/BA   1025   246\n",
       "Others    32855  9800"
      ]
     },
     "execution_count": 572,
     "metadata": {},
     "output_type": "execute_result"
    }
   ],
   "source": [
    "#Create Contingency table\n",
    "chi_test = pd.DataFrame(\n",
    "    [\n",
    "       list(df_h1['Count']),\n",
    "       list(df_h2['Count'])\n",
    "    ],\n",
    "    index=[\"DS/DA/BA\",\"Others\"],\n",
    "    columns=[\"Yes\",\"No\"])\n",
    "chi_test"
   ]
  },
  {
   "cell_type": "code",
   "execution_count": 573,
   "metadata": {},
   "outputs": [
    {
     "data": {
      "text/plain": [
       "(8.96580996596258,\n",
       " 0.00275078721546433,\n",
       " 1,\n",
       " array([[  980.31871784,   290.68128216],\n",
       "        [32899.68128216,  9755.31871784]]))"
      ]
     },
     "execution_count": 573,
     "metadata": {},
     "output_type": "execute_result"
    }
   ],
   "source": [
    "#Thankfully we can get this chi square oupput with one line of code\n",
    "from scipy.stats import chi2_contingency\n",
    "chi2_contingency(chi_test)"
   ]
  },
  {
   "cell_type": "code",
   "execution_count": 574,
   "metadata": {},
   "outputs": [
    {
     "name": "stdout",
     "output_type": "stream",
     "text": [
      "Chi square is 8.96580996596258, P-value is 0.00275078721546433\n"
     ]
    }
   ],
   "source": [
    "#to print a clean output summary\n",
    "print('Chi square is '+str(chi2_contingency(chi_test)[0]) + ', P-value is '+ str(chi2_contingency(chi_test)[1]))"
   ]
  },
  {
   "cell_type": "markdown",
   "metadata": {},
   "source": [
    "The P-value is 0.00275078721546433, which is smaller than our critial value 0.05. It says that the possibility of getting a chi-square value at least 8.96580996596258 is very small. \n",
    "\n",
    "So, we reject the null hypothesis and conclude that there is a difference between DS respondents and the rest respondents regarding if they code as a hobby statistically significance. \n",
    "\n",
    "Personal interest is a key charateristic for a Data Scientist or Business/Data Analyst. The metric we used to examine this statement is to compare the coding as hobby ratio among DS/DA group and other respondents. The statistic method we used is chi-square hypothesis testing."
   ]
  },
  {
   "cell_type": "code",
   "execution_count": 575,
   "metadata": {},
   "outputs": [],
   "source": [
    "df_h3 = ds['Hobbyist'].value_counts()/len(ds)*100\n",
    "df_h3 = df_h3.rename_axis('Hobbyist').reset_index(name='Percent')"
   ]
  },
  {
   "cell_type": "code",
   "execution_count": 576,
   "metadata": {},
   "outputs": [],
   "source": [
    "df_h4 = df_h['Hobbyist'].value_counts()/len(df_h)*100\n",
    "df_h4 = df_h4.rename_axis('Hobbyist').reset_index(name='Percent')"
   ]
  },
  {
   "cell_type": "code",
   "execution_count": 577,
   "metadata": {},
   "outputs": [
    {
     "data": {
      "text/plain": [
       "<AxesSubplot:xlabel='Hobbyist'>"
      ]
     },
     "execution_count": 577,
     "metadata": {},
     "output_type": "execute_result"
    },
    {
     "data": {
      "image/png": "[encoded data removed]",
      "text/plain": [
       "<Figure size 720x432 with 1 Axes>"
      ]
     },
     "metadata": {
      "needs_background": "light"
     },
     "output_type": "display_data"
    }
   ],
   "source": [
    "pd.concat({\n",
    "    'DS/DA/BA Respondents': df_h3.set_index('Hobbyist').Percent, 'Other Respondents': df_h4.set_index('Hobbyist').Percent\n",
    "}, axis=1).plot.bar(figsize=(10,6),fontsize = 14)"
   ]
  },
  {
   "cell_type": "markdown",
   "metadata": {},
   "source": [
    "## Question 6. How satisfied about the job?"
   ]
  },
  {
   "cell_type": "code",
   "execution_count": 578,
   "metadata": {},
   "outputs": [],
   "source": [
    "df_s1 = ds['JobSat'].value_counts()/len(ds)*100\n",
    "df_s1 = df_s1.rename_axis('JobSat').reset_index(name='Percent')"
   ]
  },
  {
   "cell_type": "code",
   "execution_count": 579,
   "metadata": {},
   "outputs": [
    {
     "data": {
      "text/plain": [
       "['Very satisfied',\n",
       " 'Slightly satisfied',\n",
       " 'Slightly dissatisfied',\n",
       " 'Neither satisfied nor dissatisfied',\n",
       " 'Very dissatisfied']"
      ]
     },
     "execution_count": 579,
     "metadata": {},
     "output_type": "execute_result"
    }
   ],
   "source": [
    "list(df_s1['JobSat'])"
   ]
  },
  {
   "cell_type": "code",
   "execution_count": 580,
   "metadata": {},
   "outputs": [],
   "source": [
    "df_s2 = df['JobSat'].value_counts()/len(df)*100\n",
    "df_s2 = df_s2.rename_axis('JobSat').reset_index(name='Percent')"
   ]
  },
  {
   "cell_type": "code",
   "execution_count": 581,
   "metadata": {},
   "outputs": [
    {
     "data": {
      "text/plain": [
       "Text(0, 0.5, '% of Group')"
      ]
     },
     "execution_count": 581,
     "metadata": {},
     "output_type": "execute_result"
    },
    {
     "data": {
      "image/png": "[encoded data removed]",
      "text/plain": [
       "<Figure size 720x432 with 1 Axes>"
      ]
     },
     "metadata": {
      "needs_background": "light"
     },
     "output_type": "display_data"
    }
   ],
   "source": [
    "pd.concat({\n",
    "    'DS/DA/BA Respondents': df_s1.set_index('JobSat').Percent, 'Other Respondents': df_s2.set_index('JobSat').Percent\n",
    "}, axis=1).plot.bar(title=\"Job Satisfaction by Percentage%\",figsize=(10,6),fontsize = 14)\n",
    "plt.xlabel(\"Satisfaction Level\",fontsize = 14)\n",
    "plt.ylabel(\"% of Group\",fontsize = 14)"
   ]
  },
  {
   "cell_type": "markdown",
   "metadata": {},
   "source": [
    "We see a higher ratio of professionals in DS/DA/BA job family are satisfied with their jobs compared to other respondents."
   ]
  },
  {
   "cell_type": "markdown",
   "metadata": {},
   "source": [
    "## Question 7. What job factors matter the most? "
   ]
  },
  {
   "cell_type": "code",
   "execution_count": 582,
   "metadata": {},
   "outputs": [
    {
     "data": {
      "text/html": [
       "<div>\n",
       "<style scoped>\n",
       "    .dataframe tbody tr th:only-of-type {\n",
       "        vertical-align: middle;\n",
       "    }\n",
       "\n",
       "    .dataframe tbody tr th {\n",
       "        vertical-align: top;\n",
       "    }\n",
       "\n",
       "    .dataframe thead th {\n",
       "        text-align: right;\n",
       "    }\n",
       "</style>\n",
       "<table border=\"1\" class=\"dataframe\">\n",
       "  <thead>\n",
       "    <tr style=\"text-align: right;\">\n",
       "      <th></th>\n",
       "      <th>JobFactors</th>\n",
       "      <th>Percent</th>\n",
       "    </tr>\n",
       "  </thead>\n",
       "  <tbody>\n",
       "    <tr>\n",
       "      <th>0</th>\n",
       "      <td>Opportunities for professional development</td>\n",
       "      <td>41.148702</td>\n",
       "    </tr>\n",
       "    <tr>\n",
       "      <th>1</th>\n",
       "      <td>Flex time or a flexible schedule</td>\n",
       "      <td>34.854445</td>\n",
       "    </tr>\n",
       "    <tr>\n",
       "      <th>2</th>\n",
       "      <td>Office environment or company culture</td>\n",
       "      <td>34.382376</td>\n",
       "    </tr>\n",
       "    <tr>\n",
       "      <th>3</th>\n",
       "      <td>Languages, frameworks, and other technologies ...</td>\n",
       "      <td>30.369788</td>\n",
       "    </tr>\n",
       "    <tr>\n",
       "      <th>4</th>\n",
       "      <td>Remote work options</td>\n",
       "      <td>26.199843</td>\n",
       "    </tr>\n",
       "    <tr>\n",
       "      <th>5</th>\n",
       "      <td>How widely used or impactful my work output wo...</td>\n",
       "      <td>23.760818</td>\n",
       "    </tr>\n",
       "    <tr>\n",
       "      <th>6</th>\n",
       "      <td>Industry that I’d be working in</td>\n",
       "      <td>15.971676</td>\n",
       "    </tr>\n",
       "    <tr>\n",
       "      <th>7</th>\n",
       "      <td>Specific department or team I’d be working on</td>\n",
       "      <td>12.037766</td>\n",
       "    </tr>\n",
       "    <tr>\n",
       "      <th>8</th>\n",
       "      <td>Financial performance or funding status of the...</td>\n",
       "      <td>11.880409</td>\n",
       "    </tr>\n",
       "    <tr>\n",
       "      <th>9</th>\n",
       "      <td>Family friendliness</td>\n",
       "      <td>9.756098</td>\n",
       "    </tr>\n",
       "    <tr>\n",
       "      <th>10</th>\n",
       "      <td>Diversity of the company or organization</td>\n",
       "      <td>6.058222</td>\n",
       "    </tr>\n",
       "  </tbody>\n",
       "</table>\n",
       "</div>"
      ],
      "text/plain": [
       "                                           JobFactors    Percent\n",
       "0          Opportunities for professional development  41.148702\n",
       "1                    Flex time or a flexible schedule  34.854445\n",
       "2               Office environment or company culture  34.382376\n",
       "3   Languages, frameworks, and other technologies ...  30.369788\n",
       "4                                 Remote work options  26.199843\n",
       "5   How widely used or impactful my work output wo...  23.760818\n",
       "6                     Industry that I’d be working in  15.971676\n",
       "7       Specific department or team I’d be working on  12.037766\n",
       "8   Financial performance or funding status of the...  11.880409\n",
       "9                                 Family friendliness   9.756098\n",
       "10           Diversity of the company or organization   6.058222"
      ]
     },
     "execution_count": 582,
     "metadata": {},
     "output_type": "execute_result"
    }
   ],
   "source": [
    "# Get possible answers for 'JobFactors'\n",
    "ds_rank = ds.JobFactors.str.split(';').explode().value_counts()/len(ds)*100\n",
    "ds_rank = ds_rank.rename_axis('JobFactors').reset_index(name='Percent')\n",
    "ds_rank"
   ]
  },
  {
   "cell_type": "markdown",
   "metadata": {},
   "source": [
    "Top 3 factors for DS/DA/BA professionals are below. It is useful for employers to consider when hiring such roles! \n",
    "1. Opportunities for professional development\n",
    "2. Flex time or a flexible schedule\n",
    "3. Office environment/company culture"
   ]
  },
  {
   "cell_type": "code",
   "execution_count": 583,
   "metadata": {},
   "outputs": [
    {
     "data": {
      "text/html": [
       "<div>\n",
       "<style scoped>\n",
       "    .dataframe tbody tr th:only-of-type {\n",
       "        vertical-align: middle;\n",
       "    }\n",
       "\n",
       "    .dataframe tbody tr th {\n",
       "        vertical-align: top;\n",
       "    }\n",
       "\n",
       "    .dataframe thead th {\n",
       "        text-align: right;\n",
       "    }\n",
       "</style>\n",
       "<table border=\"1\" class=\"dataframe\">\n",
       "  <thead>\n",
       "    <tr style=\"text-align: right;\">\n",
       "      <th></th>\n",
       "      <th>JobFactors</th>\n",
       "      <th>Percent</th>\n",
       "    </tr>\n",
       "  </thead>\n",
       "  <tbody>\n",
       "    <tr>\n",
       "      <th>0</th>\n",
       "      <td>Languages, frameworks, and other technologies ...</td>\n",
       "      <td>46.822178</td>\n",
       "    </tr>\n",
       "    <tr>\n",
       "      <th>1</th>\n",
       "      <td>Office environment or company culture</td>\n",
       "      <td>39.657719</td>\n",
       "    </tr>\n",
       "    <tr>\n",
       "      <th>2</th>\n",
       "      <td>Flex time or a flexible schedule</td>\n",
       "      <td>39.315438</td>\n",
       "    </tr>\n",
       "    <tr>\n",
       "      <th>3</th>\n",
       "      <td>Opportunities for professional development</td>\n",
       "      <td>35.491736</td>\n",
       "    </tr>\n",
       "    <tr>\n",
       "      <th>4</th>\n",
       "      <td>Remote work options</td>\n",
       "      <td>30.509905</td>\n",
       "    </tr>\n",
       "    <tr>\n",
       "      <th>5</th>\n",
       "      <td>How widely used or impactful my work output wo...</td>\n",
       "      <td>16.881960</td>\n",
       "    </tr>\n",
       "    <tr>\n",
       "      <th>6</th>\n",
       "      <td>Industry that I’d be working in</td>\n",
       "      <td>12.111124</td>\n",
       "    </tr>\n",
       "    <tr>\n",
       "      <th>7</th>\n",
       "      <td>Family friendliness</td>\n",
       "      <td>10.416129</td>\n",
       "    </tr>\n",
       "    <tr>\n",
       "      <th>8</th>\n",
       "      <td>Financial performance or funding status of the...</td>\n",
       "      <td>10.191068</td>\n",
       "    </tr>\n",
       "    <tr>\n",
       "      <th>9</th>\n",
       "      <td>Specific department or team I’d be working on</td>\n",
       "      <td>9.522916</td>\n",
       "    </tr>\n",
       "    <tr>\n",
       "      <th>10</th>\n",
       "      <td>Diversity of the company or organization</td>\n",
       "      <td>5.757824</td>\n",
       "    </tr>\n",
       "  </tbody>\n",
       "</table>\n",
       "</div>"
      ],
      "text/plain": [
       "                                           JobFactors    Percent\n",
       "0   Languages, frameworks, and other technologies ...  46.822178\n",
       "1               Office environment or company culture  39.657719\n",
       "2                    Flex time or a flexible schedule  39.315438\n",
       "3          Opportunities for professional development  35.491736\n",
       "4                                 Remote work options  30.509905\n",
       "5   How widely used or impactful my work output wo...  16.881960\n",
       "6                     Industry that I’d be working in  12.111124\n",
       "7                                 Family friendliness  10.416129\n",
       "8   Financial performance or funding status of the...  10.191068\n",
       "9       Specific department or team I’d be working on   9.522916\n",
       "10           Diversity of the company or organization   5.757824"
      ]
     },
     "execution_count": 583,
     "metadata": {},
     "output_type": "execute_result"
    }
   ],
   "source": [
    "#Check other respondents job factors\n",
    "df = pd.read_csv('./survey_results_public.csv')\n",
    "df = df[(df['DevType'].str.contains('Data scientist')==False)&\n",
    "         (df['DevType'].str.contains('Data or business analyst')==False)]\n",
    "df_rank1 = df.JobFactors.str.split(';').explode().value_counts()/len(df)*100\n",
    "\n",
    "df_rank1 = df_rank1.rename_axis('JobFactors').reset_index(name='Percent')\n",
    "df_rank1"
   ]
  },
  {
   "cell_type": "markdown",
   "metadata": {},
   "source": [
    "Among the top 3 factors for other repondent, two of them are same as DS/BA/DA respondents' ranking. However, other respondents value the language/technologies the most. In comparison, career development opportunity is not the first priority to them.\n",
    "\n",
    "1. Languages, frameworks, and other technologies I’d be working with\n",
    "2. Office environment or company culture\n",
    "3. Flex time or a flexible schedule "
   ]
  },
  {
   "cell_type": "code",
   "execution_count": 584,
   "metadata": {},
   "outputs": [
    {
     "data": {
      "text/plain": [
       "Text(0, 0.5, '% of Group')"
      ]
     },
     "execution_count": 584,
     "metadata": {},
     "output_type": "execute_result"
    },
    {
     "data": {
      "image/png": "[encoded data removed]",
      "text/plain": [
       "<Figure size 720x432 with 1 Axes>"
      ]
     },
     "metadata": {
      "needs_background": "light"
     },
     "output_type": "display_data"
    }
   ],
   "source": [
    "pd.concat({\n",
    "    'DS/DA/BA Respondents': ds_rank.set_index('JobFactors').Percent, 'Other Respondents': df_rank1.set_index('JobFactors').Percent\n",
    "}, axis=1).plot.bar(title=\"Job Factors by Percentage%\",figsize=(10,6),fontsize = 14)\n",
    "plt.xlabel(\"JobFactors\",fontsize = 14)\n",
    "plt.ylabel(\"% of Group\",fontsize = 14)"
   ]
  },
  {
   "cell_type": "markdown",
   "metadata": {},
   "source": [
    "The biggest difference between the two group is \"Language/Framework/Technologies\". I guess that's because the traditional developers are exposed to a larger range of toolbox they use, and they are expected to be the expert in their specific area. However, DS/BA/DA professionals have relatively similiar tools they use to analyze, which we can dig deeper on tools in next questions."
   ]
  },
  {
   "cell_type": "markdown",
   "metadata": {},
   "source": [
    "## Question 7. What tools do they use and will learn next year?"
   ]
  },
  {
   "cell_type": "code",
   "execution_count": 585,
   "metadata": {},
   "outputs": [
    {
     "data": {
      "text/html": [
       "<div>\n",
       "<style scoped>\n",
       "    .dataframe tbody tr th:only-of-type {\n",
       "        vertical-align: middle;\n",
       "    }\n",
       "\n",
       "    .dataframe tbody tr th {\n",
       "        vertical-align: top;\n",
       "    }\n",
       "\n",
       "    .dataframe thead th {\n",
       "        text-align: right;\n",
       "    }\n",
       "</style>\n",
       "<table border=\"1\" class=\"dataframe\">\n",
       "  <thead>\n",
       "    <tr style=\"text-align: right;\">\n",
       "      <th></th>\n",
       "      <th>MiscTechWorkedWith</th>\n",
       "      <th>Percent</th>\n",
       "    </tr>\n",
       "  </thead>\n",
       "  <tbody>\n",
       "    <tr>\n",
       "      <th>0</th>\n",
       "      <td>Pandas</td>\n",
       "      <td>49.881983</td>\n",
       "    </tr>\n",
       "    <tr>\n",
       "      <th>1</th>\n",
       "      <td>TensorFlow</td>\n",
       "      <td>31.313926</td>\n",
       "    </tr>\n",
       "    <tr>\n",
       "      <th>2</th>\n",
       "      <td>Node.js</td>\n",
       "      <td>25.413061</td>\n",
       "    </tr>\n",
       "    <tr>\n",
       "      <th>3</th>\n",
       "      <td>.NET</td>\n",
       "      <td>21.400472</td>\n",
       "    </tr>\n",
       "    <tr>\n",
       "      <th>4</th>\n",
       "      <td>Keras</td>\n",
       "      <td>21.007081</td>\n",
       "    </tr>\n",
       "    <tr>\n",
       "      <th>5</th>\n",
       "      <td>.NET Core</td>\n",
       "      <td>16.443745</td>\n",
       "    </tr>\n",
       "    <tr>\n",
       "      <th>6</th>\n",
       "      <td>Apache Spark</td>\n",
       "      <td>16.050354</td>\n",
       "    </tr>\n",
       "    <tr>\n",
       "      <th>7</th>\n",
       "      <td>Hadoop</td>\n",
       "      <td>16.050354</td>\n",
       "    </tr>\n",
       "    <tr>\n",
       "      <th>8</th>\n",
       "      <td>Torch/PyTorch</td>\n",
       "      <td>14.083399</td>\n",
       "    </tr>\n",
       "    <tr>\n",
       "      <th>9</th>\n",
       "      <td>React Native</td>\n",
       "      <td>8.733281</td>\n",
       "    </tr>\n",
       "    <tr>\n",
       "      <th>10</th>\n",
       "      <td>Unity 3D</td>\n",
       "      <td>6.923682</td>\n",
       "    </tr>\n",
       "    <tr>\n",
       "      <th>11</th>\n",
       "      <td>Cordova</td>\n",
       "      <td>5.900865</td>\n",
       "    </tr>\n",
       "    <tr>\n",
       "      <th>12</th>\n",
       "      <td>Ansible</td>\n",
       "      <td>5.822187</td>\n",
       "    </tr>\n",
       "    <tr>\n",
       "      <th>13</th>\n",
       "      <td>Xamarin</td>\n",
       "      <td>5.586153</td>\n",
       "    </tr>\n",
       "    <tr>\n",
       "      <th>14</th>\n",
       "      <td>Flutter</td>\n",
       "      <td>5.507474</td>\n",
       "    </tr>\n",
       "    <tr>\n",
       "      <th>15</th>\n",
       "      <td>Teraform</td>\n",
       "      <td>5.114083</td>\n",
       "    </tr>\n",
       "    <tr>\n",
       "      <th>16</th>\n",
       "      <td>Puppet</td>\n",
       "      <td>3.697876</td>\n",
       "    </tr>\n",
       "    <tr>\n",
       "      <th>17</th>\n",
       "      <td>Chef</td>\n",
       "      <td>3.619197</td>\n",
       "    </tr>\n",
       "    <tr>\n",
       "      <th>18</th>\n",
       "      <td>Unreal Engine</td>\n",
       "      <td>3.540519</td>\n",
       "    </tr>\n",
       "  </tbody>\n",
       "</table>\n",
       "</div>"
      ],
      "text/plain": [
       "   MiscTechWorkedWith    Percent\n",
       "0              Pandas  49.881983\n",
       "1          TensorFlow  31.313926\n",
       "2             Node.js  25.413061\n",
       "3                .NET  21.400472\n",
       "4               Keras  21.007081\n",
       "5           .NET Core  16.443745\n",
       "6        Apache Spark  16.050354\n",
       "7              Hadoop  16.050354\n",
       "8       Torch/PyTorch  14.083399\n",
       "9        React Native   8.733281\n",
       "10           Unity 3D   6.923682\n",
       "11            Cordova   5.900865\n",
       "12            Ansible   5.822187\n",
       "13            Xamarin   5.586153\n",
       "14            Flutter   5.507474\n",
       "15           Teraform   5.114083\n",
       "16             Puppet   3.697876\n",
       "17               Chef   3.619197\n",
       "18      Unreal Engine   3.540519"
      ]
     },
     "execution_count": 585,
     "metadata": {},
     "output_type": "execute_result"
    }
   ],
   "source": [
    "# Check the tools DS/DA/BA use\n",
    "ds_tool = ds.MiscTechWorkedWith.str.split(';').explode().value_counts()/len(ds)*100\n",
    "ds_tool = ds_tool.rename_axis('MiscTechWorkedWith').reset_index(name='Percent')\n",
    "ds_tool"
   ]
  },
  {
   "cell_type": "code",
   "execution_count": 586,
   "metadata": {},
   "outputs": [
    {
     "data": {
      "text/html": [
       "<div>\n",
       "<style scoped>\n",
       "    .dataframe tbody tr th:only-of-type {\n",
       "        vertical-align: middle;\n",
       "    }\n",
       "\n",
       "    .dataframe tbody tr th {\n",
       "        vertical-align: top;\n",
       "    }\n",
       "\n",
       "    .dataframe thead th {\n",
       "        text-align: right;\n",
       "    }\n",
       "</style>\n",
       "<table border=\"1\" class=\"dataframe\">\n",
       "  <thead>\n",
       "    <tr style=\"text-align: right;\">\n",
       "      <th></th>\n",
       "      <th>MiscTechWorkedWith</th>\n",
       "      <th>Percent</th>\n",
       "    </tr>\n",
       "  </thead>\n",
       "  <tbody>\n",
       "    <tr>\n",
       "      <th>0</th>\n",
       "      <td>Node.js</td>\n",
       "      <td>36.544368</td>\n",
       "    </tr>\n",
       "    <tr>\n",
       "      <th>1</th>\n",
       "      <td>.NET</td>\n",
       "      <td>24.655961</td>\n",
       "    </tr>\n",
       "    <tr>\n",
       "      <th>2</th>\n",
       "      <td>.NET Core</td>\n",
       "      <td>19.301371</td>\n",
       "    </tr>\n",
       "    <tr>\n",
       "      <th>3</th>\n",
       "      <td>React Native</td>\n",
       "      <td>8.245223</td>\n",
       "    </tr>\n",
       "    <tr>\n",
       "      <th>4</th>\n",
       "      <td>Unity 3D</td>\n",
       "      <td>6.083695</td>\n",
       "    </tr>\n",
       "    <tr>\n",
       "      <th>5</th>\n",
       "      <td>Pandas</td>\n",
       "      <td>5.811745</td>\n",
       "    </tr>\n",
       "    <tr>\n",
       "      <th>6</th>\n",
       "      <td>Ansible</td>\n",
       "      <td>5.558551</td>\n",
       "    </tr>\n",
       "    <tr>\n",
       "      <th>7</th>\n",
       "      <td>Teraform</td>\n",
       "      <td>4.857578</td>\n",
       "    </tr>\n",
       "    <tr>\n",
       "      <th>8</th>\n",
       "      <td>Flutter</td>\n",
       "      <td>4.519986</td>\n",
       "    </tr>\n",
       "    <tr>\n",
       "      <th>9</th>\n",
       "      <td>Cordova</td>\n",
       "      <td>4.379322</td>\n",
       "    </tr>\n",
       "    <tr>\n",
       "      <th>10</th>\n",
       "      <td>TensorFlow</td>\n",
       "      <td>4.093307</td>\n",
       "    </tr>\n",
       "    <tr>\n",
       "      <th>11</th>\n",
       "      <td>Xamarin</td>\n",
       "      <td>3.997187</td>\n",
       "    </tr>\n",
       "    <tr>\n",
       "      <th>12</th>\n",
       "      <td>Apache Spark</td>\n",
       "      <td>2.440511</td>\n",
       "    </tr>\n",
       "    <tr>\n",
       "      <th>13</th>\n",
       "      <td>Hadoop</td>\n",
       "      <td>2.166217</td>\n",
       "    </tr>\n",
       "    <tr>\n",
       "      <th>14</th>\n",
       "      <td>Unreal Engine</td>\n",
       "      <td>1.704372</td>\n",
       "    </tr>\n",
       "    <tr>\n",
       "      <th>15</th>\n",
       "      <td>Puppet</td>\n",
       "      <td>1.659829</td>\n",
       "    </tr>\n",
       "    <tr>\n",
       "      <th>16</th>\n",
       "      <td>Keras</td>\n",
       "      <td>1.617630</td>\n",
       "    </tr>\n",
       "    <tr>\n",
       "      <th>17</th>\n",
       "      <td>Chef</td>\n",
       "      <td>1.303481</td>\n",
       "    </tr>\n",
       "    <tr>\n",
       "      <th>18</th>\n",
       "      <td>Torch/PyTorch</td>\n",
       "      <td>1.176884</td>\n",
       "    </tr>\n",
       "  </tbody>\n",
       "</table>\n",
       "</div>"
      ],
      "text/plain": [
       "   MiscTechWorkedWith    Percent\n",
       "0             Node.js  36.544368\n",
       "1                .NET  24.655961\n",
       "2           .NET Core  19.301371\n",
       "3        React Native   8.245223\n",
       "4            Unity 3D   6.083695\n",
       "5              Pandas   5.811745\n",
       "6             Ansible   5.558551\n",
       "7            Teraform   4.857578\n",
       "8             Flutter   4.519986\n",
       "9             Cordova   4.379322\n",
       "10         TensorFlow   4.093307\n",
       "11            Xamarin   3.997187\n",
       "12       Apache Spark   2.440511\n",
       "13             Hadoop   2.166217\n",
       "14      Unreal Engine   1.704372\n",
       "15             Puppet   1.659829\n",
       "16              Keras   1.617630\n",
       "17               Chef   1.303481\n",
       "18      Torch/PyTorch   1.176884"
      ]
     },
     "execution_count": 586,
     "metadata": {},
     "output_type": "execute_result"
    }
   ],
   "source": [
    "#Check the tools other respondents use\n",
    "df_tool = df.MiscTechWorkedWith.str.split(';').explode().value_counts()/len(df)*100\n",
    "\n",
    "df_tool = df_tool.rename_axis('MiscTechWorkedWith').reset_index(name='Percent')\n",
    "df_tool"
   ]
  },
  {
   "cell_type": "code",
   "execution_count": 587,
   "metadata": {},
   "outputs": [
    {
     "data": {
      "text/plain": [
       "Text(0, 0.5, '% of Group')"
      ]
     },
     "execution_count": 587,
     "metadata": {},
     "output_type": "execute_result"
    },
    {
     "data": {
      "image/png": "[encoded data removed]",
      "text/plain": [
       "<Figure size 1080x576 with 1 Axes>"
      ]
     },
     "metadata": {
      "needs_background": "light"
     },
     "output_type": "display_data"
    }
   ],
   "source": [
    "pd.concat({\n",
    "    'DS/DA/BA Respondents': ds_tool.set_index('MiscTechWorkedWith').Percent, 'Other Respondents': df_tool.set_index('MiscTechWorkedWith').Percent\n",
    "}, axis=1).plot.bar(title=\"Frameworks/libraries/tools Use Ratio%\",figsize=(15,8),fontsize = 14)\n",
    "plt.xlabel(\"Frameworks/libraries/tools\",fontsize = 14)\n",
    "plt.ylabel(\"% of Group\",fontsize = 14)"
   ]
  },
  {
   "cell_type": "markdown",
   "metadata": {},
   "source": [
    "It shows that Pandas and TensorFlow are popular tools that Data Scientist & Data/Business Analyst use, which makes sense as these tools support their data analysis and machine learning work well. Another big variances exist in Keras, Apache Spark, Hadoop, Torch/PyTorch, which are used to handle big data or natual language processing, heavily used in Data Science field. \n",
    "\n",
    "Meanwhile, we notice that Node.js and .Net and .NET Core are favored by other respondents. "
   ]
  },
  {
   "cell_type": "code",
   "execution_count": 588,
   "metadata": {},
   "outputs": [
    {
     "data": {
      "text/plain": [
       "<AxesSubplot:>"
      ]
     },
     "execution_count": 588,
     "metadata": {},
     "output_type": "execute_result"
    },
    {
     "data": {
      "image/png": "[encoded data removed]",
      "text/plain": [
       "<Figure size 1080x576 with 1 Axes>"
      ]
     },
     "metadata": {
      "needs_background": "light"
     },
     "output_type": "display_data"
    }
   ],
   "source": [
    "ds.MiscTechDesireNextYear.str.split(';').explode().value_counts().plot(kind='bar',figsize=(15,8),fontsize = 14)"
   ]
  },
  {
   "cell_type": "markdown",
   "metadata": {},
   "source": [
    "For next year, a lot of users in DS responded that they would learn Torch/PyTorch, which was ranked 9th in their current used tools. This is an important note to whoever wants to catch up with the technologies in the industry."
   ]
  },
  {
   "cell_type": "markdown",
   "metadata": {},
   "source": [
    "## Insignts Recap\n",
    "1. There are a number of people who attempted to code 8 years before they professionally become a developer - momentums and persistence are keys to sccucess.\n",
    "2. The majority of StackoverFlow survey respondents in 2020 are traditional developers. There is about 6% respondents are data scientist/Business Analyst/Data Analyst. \n",
    "3. Most survey respondents are Computer Science background, but DS/DA/DB respondents are relatively more diverse. Math/Statistic major is a favored major in data scientist/Business Analyst/Data Analyst professions, followed by CS majors.\n",
    "4. Compared to other respondents, DS respondents have a relatively higher ratio of high-education professionals, including Master and PhD degrees.\n",
    "5. We conclude that there is a difference between DS respondents and the rest respondents regarding if they code as a hobby, tested with statistically significance.\n",
    "6. DS/DA/BA job family are relatively happy with their jobs.\n",
    "7. DS/DA/BA professionals mainly use big data analysis and machine learning tools (with Python) while other respondents create JavaScript code primarily. Next year, a learning trend towards Torch/PyTorch is surging among DS/DA/BA professionals. "
   ]
  }
 ],
 "metadata": {
  "kernelspec": {
   "display_name": "Python 3",
   "language": "python",
   "name": "python3"
  },
  "language_info": {
   "codemirror_mode": {
    "name": "ipython",
    "version": 3
   },
   "file_extension": ".py",
   "mimetype": "text/x-python",
   "name": "python",
   "nbconvert_exporter": "python",
   "pygments_lexer": "ipython3",
   "version": "3.7.4"
  }
 },
 "nbformat": 4,
 "nbformat_minor": 2
}
